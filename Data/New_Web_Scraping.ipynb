{
  "nbformat": 4,
  "nbformat_minor": 0,
  "metadata": {
    "colab": {
      "name": "New Web Scraping.ipynb",
      "provenance": [],
      "collapsed_sections": [],
      "include_colab_link": true
    },
    "kernelspec": {
      "name": "python3",
      "display_name": "Python 3"
    }
  },
  "cells": [
    {
      "cell_type": "markdown",
      "metadata": {
        "id": "view-in-github",
        "colab_type": "text"
      },
      "source": [
        "<a href=\"https://colab.research.google.com/github/steph1793/SoccerCommentsSumm/blob/master/Data/New_Web_Scraping.ipynb\" target=\"_parent\"><img src=\"https://colab.research.google.com/assets/colab-badge.svg\" alt=\"Open In Colab\"/></a>"
      ]
    },
    {
      "cell_type": "code",
      "metadata": {
        "id": "yr2qhL1SvE1l",
        "colab_type": "code",
        "outputId": "59a577c5-f99b-44ac-e60c-de2bfdb1b4c2",
        "colab": {
          "base_uri": "https://localhost:8080/",
          "height": 1000
        }
      },
      "source": [
        "# install chromium, its driver, and selenium\n",
        "!apt-get update\n",
        "!apt install chromium-chromedriver\n",
        "!cp /usr/lib/chromium-browser/chromedriver /usr/bin\n",
        "!pip install selenium\n",
        "# set options to be headless, ..\n",
        "from selenium import webdriver\n",
        "options = webdriver.ChromeOptions()\n",
        "options.add_argument('--headless')\n",
        "options.add_argument('--no-sandbox')\n",
        "options.add_argument('--disable-dev-shm-usage')\n",
        "# open it, go to a website, and get results\n",
        "wd = webdriver.Chrome('chromedriver',options=options)\n",
        "wd.get(\"https://www.website.com\")\n",
        "print(wd.page_source)  # results"
      ],
      "execution_count": 1,
      "outputs": [
        {
          "output_type": "stream",
          "text": [
            "\r0% [Working]\r            \rGet:1 https://cloud.r-project.org/bin/linux/ubuntu bionic-cran35/ InRelease [3,626 B]\n",
            "\r0% [Connecting to archive.ubuntu.com] [Connecting to security.ubuntu.com] [1 In\r0% [Connecting to archive.ubuntu.com] [Connecting to security.ubuntu.com] [Conn\r0% [1 InRelease gpgv 3,626 B] [Connecting to archive.ubuntu.com] [Connecting to\r                                                                               \rIgn:2 https://developer.download.nvidia.com/compute/cuda/repos/ubuntu1804/x86_64  InRelease\n",
            "\r0% [1 InRelease gpgv 3,626 B] [Connecting to archive.ubuntu.com (91.189.88.152)\r0% [Connecting to archive.ubuntu.com (91.189.88.152)] [Connecting to security.u\r                                                                               \rIgn:3 https://developer.download.nvidia.com/compute/machine-learning/repos/ubuntu1804/x86_64  InRelease\n",
            "\r0% [Connecting to archive.ubuntu.com (91.189.88.152)] [Connecting to security.u\r                                                                               \rHit:4 https://developer.download.nvidia.com/compute/cuda/repos/ubuntu1804/x86_64  Release\n",
            "\r0% [Connecting to archive.ubuntu.com (91.189.88.152)] [Connecting to security.u\r0% [Release.gpg gpgv 564 B] [Connecting to archive.ubuntu.com (91.189.88.152)] \r                                                                               \rHit:5 https://developer.download.nvidia.com/compute/machine-learning/repos/ubuntu1804/x86_64  Release\n",
            "\r0% [Release.gpg gpgv 564 B] [Connecting to archive.ubuntu.com (91.189.88.142)] \r                                                                               \r0% [Waiting for headers] [Waiting for headers] [Waiting for headers]\r0% [Release.gpg gpgv 564 B] [Waiting for headers] [Waiting for headers] [Waitin\r                                                                               \rHit:7 http://ppa.launchpad.net/graphics-drivers/ppa/ubuntu bionic InRelease\n",
            "\r0% [Release.gpg gpgv 564 B] [Waiting for headers] [Waiting for headers] [Connec\r                                                                               \rGet:8 http://security.ubuntu.com/ubuntu bionic-security InRelease [88.7 kB]\n",
            "\r0% [Release.gpg gpgv 564 B] [Waiting for headers] [8 InRelease 2,587 B/88.7 kB \r                                                                               \rHit:9 http://archive.ubuntu.com/ubuntu bionic InRelease\n",
            "\r0% [Release.gpg gpgv 564 B] [Waiting for headers] [8 InRelease 2,587 B/88.7 kB \r0% [Waiting for headers] [8 InRelease 11.3 kB/88.7 kB 13%] [Connecting to ppa.l\r0% [7 InRelease gpgv 21.3 kB] [Waiting for headers] [8 InRelease 11.3 kB/88.7 k\r0% [Waiting for headers] [8 InRelease 14.2 kB/88.7 kB 16%] [Waiting for headers\r0% [9 InRelease gpgv 242 kB] [Waiting for headers] [8 InRelease 14.2 kB/88.7 kB\r                                                                               \rGet:11 http://archive.ubuntu.com/ubuntu bionic-updates InRelease [88.7 kB]\n",
            "Get:12 http://ppa.launchpad.net/marutter/c2d4u3.5/ubuntu bionic InRelease [15.4 kB]\n",
            "Get:13 http://security.ubuntu.com/ubuntu bionic-security/main amd64 Packages [908 kB]\n",
            "Get:14 http://ppa.launchpad.net/marutter/c2d4u3.5/ubuntu bionic/main Sources [1,814 kB]\n",
            "Get:15 http://archive.ubuntu.com/ubuntu bionic-backports InRelease [74.6 kB]\n",
            "Get:16 http://archive.ubuntu.com/ubuntu bionic-updates/universe amd64 Packages [1,376 kB]\n",
            "Get:17 http://security.ubuntu.com/ubuntu bionic-security/universe amd64 Packages [844 kB]\n",
            "Get:18 http://archive.ubuntu.com/ubuntu bionic-updates/main amd64 Packages [1,205 kB]\n",
            "Get:19 http://ppa.launchpad.net/marutter/c2d4u3.5/ubuntu bionic/main amd64 Packages [875 kB]\n",
            "Fetched 7,294 kB in 6s (1,191 kB/s)\n",
            "Reading package lists... Done\n",
            "Reading package lists... Done\n",
            "Building dependency tree       \n",
            "Reading state information... Done\n",
            "The following additional packages will be installed:\n",
            "  chromium-browser chromium-browser-l10n chromium-codecs-ffmpeg-extra\n",
            "Suggested packages:\n",
            "  webaccounts-chromium-extension unity-chromium-extension adobe-flashplugin\n",
            "The following NEW packages will be installed:\n",
            "  chromium-browser chromium-browser-l10n chromium-chromedriver\n",
            "  chromium-codecs-ffmpeg-extra\n",
            "0 upgraded, 4 newly installed, 0 to remove and 32 not upgraded.\n",
            "Need to get 77.2 MB of archives.\n",
            "After this operation, 264 MB of additional disk space will be used.\n",
            "Get:1 http://archive.ubuntu.com/ubuntu bionic-updates/universe amd64 chromium-codecs-ffmpeg-extra amd64 81.0.4044.122-0ubuntu0.18.04.1 [1,095 kB]\n",
            "Get:2 http://archive.ubuntu.com/ubuntu bionic-updates/universe amd64 chromium-browser amd64 81.0.4044.122-0ubuntu0.18.04.1 [68.8 MB]\n",
            "Get:3 http://archive.ubuntu.com/ubuntu bionic-updates/universe amd64 chromium-browser-l10n all 81.0.4044.122-0ubuntu0.18.04.1 [3,230 kB]\n",
            "Get:4 http://archive.ubuntu.com/ubuntu bionic-updates/universe amd64 chromium-chromedriver amd64 81.0.4044.122-0ubuntu0.18.04.1 [4,070 kB]\n",
            "Fetched 77.2 MB in 10s (8,045 kB/s)\n",
            "Selecting previously unselected package chromium-codecs-ffmpeg-extra.\n",
            "(Reading database ... 144429 files and directories currently installed.)\n",
            "Preparing to unpack .../chromium-codecs-ffmpeg-extra_81.0.4044.122-0ubuntu0.18.04.1_amd64.deb ...\n",
            "Unpacking chromium-codecs-ffmpeg-extra (81.0.4044.122-0ubuntu0.18.04.1) ...\n",
            "Selecting previously unselected package chromium-browser.\n",
            "Preparing to unpack .../chromium-browser_81.0.4044.122-0ubuntu0.18.04.1_amd64.deb ...\n",
            "Unpacking chromium-browser (81.0.4044.122-0ubuntu0.18.04.1) ...\n",
            "Selecting previously unselected package chromium-browser-l10n.\n",
            "Preparing to unpack .../chromium-browser-l10n_81.0.4044.122-0ubuntu0.18.04.1_all.deb ...\n",
            "Unpacking chromium-browser-l10n (81.0.4044.122-0ubuntu0.18.04.1) ...\n",
            "Selecting previously unselected package chromium-chromedriver.\n",
            "Preparing to unpack .../chromium-chromedriver_81.0.4044.122-0ubuntu0.18.04.1_amd64.deb ...\n",
            "Unpacking chromium-chromedriver (81.0.4044.122-0ubuntu0.18.04.1) ...\n",
            "Setting up chromium-codecs-ffmpeg-extra (81.0.4044.122-0ubuntu0.18.04.1) ...\n",
            "Setting up chromium-browser (81.0.4044.122-0ubuntu0.18.04.1) ...\n",
            "update-alternatives: using /usr/bin/chromium-browser to provide /usr/bin/x-www-browser (x-www-browser) in auto mode\n",
            "update-alternatives: using /usr/bin/chromium-browser to provide /usr/bin/gnome-www-browser (gnome-www-browser) in auto mode\n",
            "Setting up chromium-chromedriver (81.0.4044.122-0ubuntu0.18.04.1) ...\n",
            "Setting up chromium-browser-l10n (81.0.4044.122-0ubuntu0.18.04.1) ...\n",
            "Processing triggers for hicolor-icon-theme (0.17-2) ...\n",
            "Processing triggers for mime-support (3.60ubuntu1) ...\n",
            "Processing triggers for man-db (2.8.3-2ubuntu0.1) ...\n",
            "cp: '/usr/lib/chromium-browser/chromedriver' and '/usr/bin/chromedriver' are the same file\n",
            "Collecting selenium\n",
            "\u001b[?25l  Downloading https://files.pythonhosted.org/packages/80/d6/4294f0b4bce4de0abf13e17190289f9d0613b0a44e5dd6a7f5ca98459853/selenium-3.141.0-py2.py3-none-any.whl (904kB)\n",
            "\u001b[K     |████████████████████████████████| 911kB 2.7MB/s \n",
            "\u001b[?25hRequirement already satisfied: urllib3 in /usr/local/lib/python3.6/dist-packages (from selenium) (1.24.3)\n",
            "Installing collected packages: selenium\n",
            "Successfully installed selenium-3.141.0\n",
            "<html lang=\"en\" class=\"wf-nunitosans-n6-active wf-nunitosans-n7-active wf-nunitosans-n4-active wf-nunitosans-n3-active wf-nunitosans-n8-active wf-nunitosans-n9-active wf-active cssall supports cssfilters csstransforms3d csstransitions mdl-js\"><head>\n",
            "\n",
            "\t\n",
            "<meta http-equiv=\"content-type\" content=\"text/html;charset=utf-8\">\n",
            "<meta name=\"viewport\" content=\"width=device-width, maximum-scale=1.0\">\n",
            "<meta name=\"description\" content=\"Create a professional website for free with the Website.com website builder. Domain names, web hosting, website templates, and ecommerce solutions included.\">\n",
            "<link rel=\"dns-prefetch preconnect\" href=\"//ajax.googleapis.com\">\t\n",
            "<link rel=\"dns-prefetch preconnect\" href=\"//fonts.googleapis.com\">\n",
            "<link rel=\"dns-prefetch preconnect\" href=\"//apis.google.com\">\n",
            "<link rel=\"dns-prefetch preconnect\" href=\"//fonts.gstatic.com\">\n",
            "\t\t<link rel=\"dns-prefetch preconnect\" href=\"//www.shopperapproved.com\">\t\n",
            "\t\t\n",
            "<title>Create Your Website for Free | Free Site Builder | Website.com</title>\n",
            "<link rel=\"canonical\" href=\"https://www.website.com/\">\n",
            "<meta property=\"og:title\" content=\"Create Your Website for Free | Free Site Builder | Website.com\">\n",
            "<meta property=\"og:description\" content=\"Create a professional website for free with the Website.com website builder. Domain names, web hosting, website templates, and ecommerce solutions included.\">\n",
            "<meta property=\"og:image\" content=\"https://www.website.com/img/skin/fb201906.png\">\n",
            "<meta property=\"og:image:width\" content=\"1200\">\n",
            "<meta property=\"og:image:height\" content=\"456\">\n",
            "<meta property=\"og:url\" content=\"https://www.website.com/\">\n",
            "<meta property=\"og:site_name\" content=\"Website.com\">\n",
            "<meta property=\"og:type\" content=\"website\">\n",
            "<script src=\"https://ajax.googleapis.com/ajax/libs/webfont/1.6.26/webfont.js\" async=\"\"></script><script type=\"text/javascript\" async=\"\" src=\"https://ssl.google-analytics.com/ga.js\"></script><script type=\"application/ld+json\">{\"@context\": \"https://schema.org\",\"@graph\": [{\"@type\":\"WebSite\",\"name\":\"Website.com\",\"alternateName\":\"Website.com Solutions Inc.\",\"url\":\"https://www.website.com\"},{\"@type\":\"Organization\",\"name\":\"Website.com Solutions Inc.\",\"url\":\"https://www.website.com\",\"logo\":\"https://www.website.com/img/ws_logo.png\",\"@id\": \"https://www.website.com\",\"address\": {\"@type\": \"PostalAddress\",\"streetAddress\": \"P.O. Box 43083 Cascade\",\"addressLocality\": \"Burnaby\",\"addressRegion\": \"BC\",\"postalCode\": \"V5G 4S2\",\"addressCountry\": \"CA\"},\"contactPoint\": [{\"@type\": \"ContactPoint\",\"telephone\": \"+1-604-637-0780\",\"contactType\": \"customer service\"}],\"sameAs\": [\"https://www.youtube.com/websitedotcom\",\"https://www.twitter.com/websitedotcom\",\"https://www.facebook.com/websitedotcom\"]}]}</script>\n",
            "\n",
            "<link rel=\"shortcut icon\" href=\"/favicon.ico\">\n",
            "<style>\n",
            "html{background:#fff;color:#000;font-size:100%;text-size-adjust:100%}body,button,html,input,select,textarea{font-family:\"Open Sans\",sans-serif}body,html{height:100%}*{outline:0;box-sizing:border-box;zoom:1;font-family:\"Nunito Sans\",sans-serif!important}body{background:#fff;color:#606060;font-size:12px;line-height:1.5em;margin:0;position:relative;z-index:0}#site-wrapper{min-height:100%;margin-bottom:0}#site-header{background:#fff;height:97px;position:relative;z-index:30;width:92%;min-width:initial;margin:0 auto}#site-body,#site-footer,#site-header,#site-header-footer,#site-header.stuck{min-width:1020px}#site-header .topbar{background:#fff;height:33px;margin-top:1.92rem}div.wrapper{margin:0 auto;width:100%}#site-logo{float:left;width:179px}a{color:#007cdc;text-decoration:none}#site-logo a{display:block;width:179px;height:36px;margin-top:13px;background:url(/img/skin/wsLogo_dark.svg) left top no-repeat}#site-header .topbar #site-logo a{background-position:left top;width:175px;height:25px;margin-top:9px}#site-logo span{display:none}dl,menu,ol,ul{margin:1em 0}menu,ol,ul{padding:0 0 0 40px}ul{list-style:none;margin:0;padding:0}#site-header .topbar #site-logo+ul{float:right;display:block}#site-header .topbar #site-logo+ul li{display:block;float:left;position:relative}#site-header .topbar #site-logo+ul li a{color:#000;text-transform:uppercase;display:inline-block;padding:0 20px;line-height:36px;transition:color .1s ease-out 0s,background .1s ease-out 0s;text-decoration:none;font-size:12px;letter-spacing:.1em;font-weight:700;height:33px}#site-header .topbar #site-logo+ul li a.signup{font-size:14px;font-weight:700;background:#ff4419;color:#fff;padding:0 1.5rem;min-width:120px;text-align:center;box-sizing:border-box}#miniMenu,#miniMenuItem{display:none}#miniMenuItem{height:0;overflow:hidden}#site-menu{display:block;margin:23px 0 0}#site-menu li{display:inline}#site-menu li.fixedOnly{display:none}#site-menu li a{color:#000;text-transform:uppercase;text-decoration:none;text-align:left;transition:color .1s ease-out 0s;font-size:14px;font-weight:700;letter-spacing:.1em;margin-right:0;margin-left:2rem}#site-menu li:first-child+li a{margin-left:0}#miniMenuLogin{display:none}#site-header-footer{display:none}#banner{position:relative;overflow:hidden;height:729px;background:#e9e9e7}.slick-slider{position:relative;display:block;box-sizing:border-box;user-select:none;touch-action:pan-y;-webkit-tap-highlight-color:transparent}#banner #bgSlider{position:absolute;width:100%;height:100%;z-index:1;opacity:0}.slick-list{position:relative;display:block;overflow:hidden;margin:0;padding:0}.slick-slider .slick-list,.slick-slider .slick-track{transform:translate3d(0,0,0)}#banner #bgSlider .slick-list,#banner #bgSlider .slick-track{height:100%!important}.slick-track{position:relative;top:0;left:0;display:block}.slick-slide{display:none;float:left;height:100%;min-height:1px}.slick-initialized .slick-slide{display:block}#banner #bgSlider .sl{background-color:transparent;background-position:center top;background-repeat:no-repeat;background-size:cover;width:100%;height:729px}#banner #bgSlider .store.lazy-bg-loaded{background-image:url(/img/skin/home-ml/shop.png)}body.webp #banner #bgSlider .store.lazy-bg-loaded{background-image:url(/img/skin/home-ml/webp/shop.webp)}#banner #bgSlider .business.lazy-bg-loaded{background-image:url(/img/skin/home-ml/business.png)}body.webp #banner #bgSlider .business.lazy-bg-loaded{background-image:url(/img/skin/home-ml/webp/business.webp)}#banner #bgSlider .restaurant.lazy-bg-loaded{background-image:url(/img/skin/home-ml/restaurant.png)}body.webp #banner #bgSlider .restaurant.lazy-bg-loaded{background-image:url(/img/skin/home-ml/webp/restaurant.webp)}.section .content{padding:7.5rem 0;margin:0 auto;text-align:center}#banner .content{position:relative;z-index:2;height:100%;padding:0}#banner .content .inner{position:relative;margin-top:11vw;margin-left:auto;margin-right:auto;width:90%;text-align:center}h1,h2,h3,h4,h5{margin:0 0 10px;font-weight:700;font-family:Heebo,sans-serif}h1{color:#000;font-size:72px;font-weight:100;line-height:1em;margin:30px 0 25px}.section .title{font-size:75px;line-height:1em;font-weight:700}#banner .content .title{position:absolute;right:50%;display:block;color:#000;width:55rem;text-align:left;line-height:1.1em;margin:0 0 0 auto;opacity:1;transform:translate(50%,0);transition:all .7s ease-in-out 0s}#banner .content .title.animated{font-size:65px;width:50%;padding-right:0;right:0;opacity:1;transform:translate(0,0)}#banner .content .title.done{position:relative}#banner #templateFrame{position:absolute;width:818px;height:729px;opacity:0;bottom:0;right:0;left:0;z-index:1;transition:opacity .5s ease-in-out 0s}#banner #templateFrame.show{opacity:1}#banner #templateFrame .frame{width:100%;height:100%;position:absolute;z-index:1;top:0;left:0;background:center bottom/contain no-repeat}#banner #templateFrame.lazy-bg-loaded .frame{background:url(/img/skin/home-ml/templateframe.png) center bottom/contain no-repeat}body.webp #banner #templateFrame.lazy-bg-loaded .frame{background-image:url(/img/skin/home-ml/webp/templateframe.webp)}#banner #templateFrame .frame div{display:none}#banner #templateFrame .frameWrap{position:relative;z-index:0;width:508px;height:526px;left:153px;top:203px;overflow:hidden}#banner #templateFrame .frameWrap div{position:absolute;top:0;left:0;opacity:0;width:508px;background-color:transparent;background-position:center top;background-repeat:no-repeat;background-size:contain;transition:left .5s ease-out 0s,opacity .7s ease-out .35s}#banner #templateFrame .frameWrap .business{height:1076px}#banner #templateFrame.lazy-bg-loaded .frameWrap .business{background-image:url(/img/skin/home-ml/biz_template.png)}body.webp #banner #templateFrame.lazy-bg-loaded .frameWrap .business{background-image:url(/img/skin/home-ml/webp/biz_template.webp)}#banner #templateFrame .frameWrap .multiling{height:1400px}#banner #templateFrame.lazy-bg-loaded .frameWrap .multiling{background-image:url(/img/skin/home-ml/multi_template_japan.png)}body.webp #banner #templateFrame.lazy-bg-loaded .frameWrap .multiling{background-image:url(/img/skin/home-ml/webp/multi_template_japan.webp)}#banner #templateFrame .frameWrap div.active{opacity:1}#banner #templateFrame .frameWrap .restaurant{height:1429px}#banner #templateFrame.lazy-bg-loaded .frameWrap .restaurant{background-image:url(/img/skin/home-ml/restaurant_template.png)}body.webp #banner #templateFrame.lazy-bg-loaded .frameWrap .restaurant{background-image:url(/img/skin/home-ml/webp/restaurant_template.webp)}#banner #templateFrame .frameWrap .store{height:1800px}#banner #templateFrame.lazy-bg-loaded .frameWrap .store{background-image:url(/img/skin/home-ml/shop_template_solid.png)}body.webp #banner #templateFrame.lazy-bg-loaded .frameWrap .store{background-image:url(/img/skin/home-ml/webp/shop_template_solid.webp)}#homeScrollDown{background:url(/img/skin/halfcircle.svg) 0 0/contain no-repeat;width:64px;height:32px;position:fixed;bottom:0;left:0;right:0;margin:0 auto;z-index:30;opacity:1;visibility:visible;cursor:pointer;transition:all .3s ease 0s}#multiling .pagination{position:absolute;z-index:2;top:7.5rem;right:2.5%;display:none}#multiling .pagination ul{list-style:none;display:block}#multiling .pagination li{display:inline-block;margin:0 0 0 .5rem;list-style:none;overflow:hidden}#multiling .pagination li:first-child{margin-left:0}#multiling .pagination li span{display:inline-block;width:10px;height:10px;border-radius:10px;background:rgba(255,255,255,.5);transition:background .6s ease-out 0s;cursor:pointer}#multiling .pagination li.active span{background:#fff}button,input,select,textarea{font-size:100%;margin:0;vertical-align:baseline}button,input{line-height:normal}input[type=checkbox],input[type=radio]{box-sizing:border-box;padding:0}input,select,textarea{border-width:1px;border-style:solid;border-color:#f2f2f2 #f2f2f2 #b5b5b5;border-image:initial;background:#f2f2f2;font-weight:300}button,input[type=button],input[type=checkbox],input[type=image],input[type=radio]{border:none}#footer-links li.columns input{display:none}a.backToTop{position:fixed;right:36px;bottom:105px;display:none;width:36px;height:36px;border-radius:36px;background:rgba(242,242,242,.22);text-decoration:none;z-index:2;font-family:\"Nunito Sans\",sans-serif}a.backToTop span{text-align:center;display:block;color:#bababa;font-weight:700;font-size:.8em}a.backToTop i{display:block;margin:4px auto 0;width:13px;height:13px;background:url(/img/skin/headerfooter-sprite.png) -9px -532px no-repeat}\n",
            "</style> \n",
            "<link rel=\"stylesheet\" href=\"https://fonts.googleapis.com/css?family=Nunito+Sans:300,400,600,700,800,900\" media=\"all\"><script src=\"//www.shopperapproved.com/seals/certificate.js\" type=\"text/javascript\"></script><script async=\"true\" type=\"text/javascript\" src=\"https://s.adroll.com/j/roundtrip.js\"></script></head>\n",
            "<body class=\" webp responsive\">\n",
            "\n",
            "<div id=\"promoTopBanner\" class=\"show\" style=\"width: 785px;\">\n",
            "\t<p>\n",
            "\t\tLimited Time Offer! Get 12 months of Premium Plan with a free domain for just $2 per month.\n",
            "\t\t<a class=\"signupPopup\" href=\"/sign-up/\" title=\"Get Started Now\">Get Started Now<span></span></a>\n",
            "\t</p>\n",
            "\t<a href=\"#\" class=\"close\">Close</a>\n",
            "</div>\n",
            "\n",
            "<div id=\"site-wrapper\">\n",
            "<div id=\"site-header\">\n",
            "\t\n",
            "\t<div class=\"topbar\">\n",
            "\t\t<div class=\"wrapper clearfix\">\n",
            "\t\t\t<div class=\"topbarItems\">\n",
            "\t\t\t\t<div id=\"site-logo\"><a href=\"/\" title=\"Website.com Website Builder\"><span>Website.com Website Builder</span></a></div>\n",
            "\t\t\t\t<ul>\n",
            "\t\t\t\t\t<li id=\"topbarItems-contactus\"><a id=\"support-contactus\" href=\"/contact-us/\" title=\"Contact Us\">Contact Us</a></li>\n",
            "\t\t\t\t\t<li>\n",
            "\t\t\t\t\t\t\n",
            "\t\t\t\t\t\t<a href=\"/webmail/sign-in/\" id=\"webmailFunction\">Mail</a>\n",
            "\t\t\t\t\t\t\n",
            "\t\t\t\t\t</li>\n",
            "\t\t\t\t\t<li>\n",
            "\t\t\t\t\t\t\n",
            "\t\t\t\t\t\t\t<a href=\"/sign-in/\" id=\"memberFunction\" class=\"login\">Log In</a>\n",
            "\t\t\t\t\t\t\n",
            "\t\t\t\t\t</li>\n",
            "\t\t\t\t\t<li><a id=\"menuSignup\" class=\"signup\" href=\"/sign-up/\">Sign Up</a></li>\n",
            "\t\t\t\t</ul>\n",
            "\t\t\t</div>\n",
            "\t\t</div>\n",
            "\t</div>\n",
            "\n",
            "<ul id=\"miniMenuItem\">\n",
            "\t<li class=\"menuSignup\"><a href=\"#\" id=\"closeMiniMenu\"></a><a href=\"https://www.website.com/sign-up/\" title=\"Sign Up\">Sign Up Now</a></li>\n",
            "\t<li><a href=\"/\">Home</a></li>\n",
            "\t<li><a href=\"/website-templates/\" class=\"websiteTemplatePath\" title=\"Templates\">Templates</a></li>\n",
            "\t<li><a href=\"/features/\" title=\"Features\">Features</a></li>\n",
            "\t<li><a href=\"/website-builder/\" title=\"Site Builder\">Site Builder</a></li>\n",
            "\t<li><a href=\"/ecommerce/\" title=\"Ecommerce\">Ecommerce</a></li>\n",
            "\t<li><a href=\"/restaurant-website/\" title=\"Restaurant\">Restaurant</a></li>\n",
            "\t<li><a href=\"/multilingual-website/\" title=\"Multilingual\">Multilingual</a></li>\n",
            "\t<li><a href=\"/seo/\" title=\"Easy SEO\">Easy SEO</a></li>\n",
            "\t<li><a href=\"/ab-testing/\" title=\"A/B Testing\">A/B Testing</a></li>\n",
            "\t<li><a href=\"/pricing/\" title=\"Plans\">Plans</a></li>\n",
            "\t<li><a href=\"/resources/\" title=\"Resources\">Resources</a></li>\n",
            "\t<li><a href=\"/contact-us/\" title=\"Contact Us\"><span>Contact Us</span></a></li>\n",
            "\t\n",
            "\t<li><a title=\"Live Chat\" href=\"#\" class=\"liveChatApp\"><span><i></i>Live Chat</span></a></li>\n",
            "\t\n",
            "\t<li class=\"email\" title=\"Webmail Log In\"><a href=\"https://www.website.com/webmail/sign-in/\"><span>Mail</span></a></li>\n",
            "\t<li class=\"signin\">\n",
            "\t\t\n",
            "\t\t\t<a href=\"https://www.website.com/sign-in/\"><span>Log In</span></a>\n",
            "\t\t\n",
            "\t</li>\n",
            "\t\n",
            "\t<li class=\"last clearfix\">\n",
            "\t\t<ul id=\"header-social\">\n",
            "\t\t\t<li><a href=\"https://www.facebook.com/websitedotcom\" target=\"_blank\" class=\"facebook\" title=\"Facebook\" rel=\"noopener noreferrer\"></a></li>\n",
            "\t\t\t<li><a href=\"https://www.twitter.com/websitedotcom\" target=\"_blank\" class=\"twitter\" title=\"Twitter\" rel=\"noopener noreferrer\"></a></li>\n",
            "\t\t\t<li><a href=\"https://www.youtube.com/websitedotcom\" target=\"_blank\" class=\"youtube\" title=\"YouTube\" rel=\"noopener noreferrer\"></a></li>\n",
            "\t\t\t<li><a href=\"https://blog.website.com\" target=\"_blank\" class=\"wsblog\" title=\"Website.com Official Blog\" rel=\"noopener noreferrer\"></a></li>\n",
            "\t\t</ul>\n",
            "\t</li>\n",
            "\n",
            "</ul>\n",
            "\n",
            "\t<div id=\"menuSection\" class=\"wrapper clearfix \">\n",
            "\t\t\n",
            "\t\t<ul id=\"site-menu\" class=\"clearfix\">\n",
            "\t\t\t<li class=\"fixedOnly\"><a id=\"fixedLogo\" href=\"/\" title=\"Website.com Website Builder\"><span></span></a></li>\n",
            "\t\t\t\n",
            "\t<li><a href=\"/website-templates/\" class=\"websiteTemplatePath\" title=\"Templates\">Templates</a></li>\n",
            "\t<li><a href=\"/features/\" title=\"Features\">Features</a></li>\n",
            "\t<li><a href=\"/website-builder/\" title=\"Site Builder\">Site Builder</a></li>\n",
            "\t<li><a href=\"/ecommerce/\" title=\"Ecommerce\">Ecommerce</a></li>\n",
            "\t<li><a href=\"/restaurant-website/\" title=\"Restaurant\">Restaurant</a></li>\n",
            "\t<li><a href=\"/multilingual-website/\" title=\"Multilingual\">Multilingual</a></li>\n",
            "\t<li><a href=\"/pricing/\" title=\"Plans\">Plans</a></li>\n",
            "\t<li><a href=\"/resources/\" title=\"Resources\">Resources</a></li>\n",
            "\n",
            "\t\t\t<li class=\"fixedOnly\"><a class=\"signup\" href=\"/sign-up/\">Sign Up</a></li>\n",
            "\t\t</ul>\n",
            "\t\t\n",
            "\t\t<a id=\"miniMenuSiteLogo\" href=\"/\"></a>\n",
            "\t\t<a id=\"miniMenu\" href=\"#\"><span>Menu<i></i></span></a>\n",
            "\t\t<a id=\"miniMenuLogin\" href=\"/sign-in/\">Log In</a>\n",
            "\t</div>\n",
            "\t\n",
            "\t\n",
            "\t<div class=\"headerBanner\"></div>\n",
            "\t\n",
            "</div>\n",
            "<div id=\"site-header-footer\"></div>\n",
            "<div id=\"site-body\">\n",
            "\n",
            "<link href=\"/style/home-pack.css?20200430033331\" rel=\"stylesheet\" type=\"text/css\">\n",
            "\n",
            "<div id=\"banner\" class=\"section restaurant\" data-type=\"restaurant\">\n",
            "\t<div id=\"bgSlider\" style=\"opacity:1;\" class=\"slick-initialized slick-slider\">\n",
            "\t\t<div aria-live=\"polite\" class=\"slick-list\"><div class=\"slick-track\" role=\"listbox\" style=\"opacity: 1; width: 3925px; transform: translate3d(-1570px, 0px, 0px);\"><div class=\"sl store slick-slide slick-cloned lazy-bg-loaded\" data-slick-index=\"-1\" aria-hidden=\"true\" tabindex=\"-1\" style=\"width: 785px;\"></div><div class=\"sl business slick-slide lazy-bg-loaded\" data-slick-index=\"0\" aria-hidden=\"true\" tabindex=\"-1\" role=\"option\" aria-describedby=\"slick-slide00\" style=\"width: 785px;\"></div><div class=\"sl restaurant slick-slide lazy-bg-loaded slick-current slick-active\" data-slick-index=\"1\" aria-hidden=\"false\" tabindex=\"-1\" role=\"option\" aria-describedby=\"slick-slide01\" style=\"width: 785px;\"></div><div class=\"sl store slick-slide lazy-bg-loaded\" data-slick-index=\"2\" aria-hidden=\"true\" tabindex=\"-1\" role=\"option\" aria-describedby=\"slick-slide02\" style=\"width: 785px;\"></div><div class=\"sl business slick-slide slick-cloned lazy-bg-loaded\" data-slick-index=\"3\" aria-hidden=\"true\" tabindex=\"-1\" style=\"width: 785px;\"></div></div></div>\n",
            "\t  \t\n",
            "\t  \t\n",
            "\t</div>\n",
            "\t<div class=\"content\">\n",
            "\t\t<div class=\"inner\">\n",
            "\t\t\t\n",
            "\t\t\t<h1 class=\"title animated done\">Create your professional website for free</h1>\n",
            "\t\t\t\n",
            "\t\t\t<div class=\"description animated\">\n",
            "\t\t\t\t<p>Build your unique <b><strong class=\"icon\"><i><img src=\"/img/skin/home-ml/globe.svg\" alt=\"Multilingual icon\"></i></strong><span data-business=\"Business Website.\" data-multilingual=\"Multilingual Website.\" data-restaurant=\"Restaurant Website.\" data-store=\"Online Store.\" class=\"animated\"><strong class=\"animated\">Restaurant Website.</strong><b></b></span></b></p>\n",
            "\t\t\t\t<div class=\"top-wrapper\">\n",
            "\t\t\t\t\t\n",
            "\t\t\t\t\t<a class=\"btn signupPopup\" href=\"/sign-up/\">Get Started for Free</a>\n",
            "\t\t\t\t\t<p>Or <a class=\"underline\" href=\"/pricing/\">Premium Plans</a> From Only $2.00/month</p>\n",
            "\t\t\t\t</div>\n",
            "\t\t\t\t<div class=\"bottom-wrapper\">\n",
            "\t\t\t\t\t\n",
            "\t\t\t\t\t<p><em>Sign up for <strong>free</strong>! No credit card required</em></p>\n",
            "\t\t\t\t\t\n",
            "\t\t\t\t\t<div id=\"shopperapproved\">\n",
            "\t\t\t\t\t\t<img src=\"//www.shopperapproved.com/seals/14538-r.gif\" style=\"border: 0\" alt=\"Customer Reviews\" oncontextmenu=\"var d = new Date(); alert('Copying Prohibited by Law - This image and all included logos are copyrighted by Shopper Approved \\251 '+d.getFullYear()+'.'); return false;\">\n",
            "\t\t\t\t\t</div>\n",
            "\t\t\t\t</div>\n",
            "\t\t\t</div>\n",
            "\t\t</div>\n",
            "\t</div>\n",
            "\t<div id=\"templateFrame\" class=\"show lazy-bg-loaded\">\n",
            "\t\t<div class=\"frame\"><div></div></div>\n",
            "\t\t<div class=\"frameWrap\" style=\"left: 134.438px;\">\n",
            "\t\t\t<div class=\"business\"></div>\n",
            "\t\t\t<div class=\"multiling\"></div>\n",
            "\t\t\t<div class=\"restaurant\"></div>\n",
            "\t\t\t<div class=\"store\"></div>\n",
            "\t\t</div>\n",
            "\t</div>\n",
            "\t<div class=\"prev active\"></div>\n",
            "\t<div class=\"next active\"></div>\n",
            "</div>\n",
            "<style>\n",
            "\t#banner .content{height:auto;}\n",
            "</style>\n",
            "<div id=\"websiteComFeatures\" class=\"section\">\n",
            "\t<div class=\"content\">\n",
            "\t\t\n",
            "\t\t<h2 class=\"title\">How to launch your website for free</h2>\n",
            "\t\t\n",
            "\t\t<ul>\n",
            "\t\t\t<li class=\"i2\">\n",
            "\t\t\t\t<i></i>\n",
            "\t\t\t\t<h3>Free <span>Domain Name</span></h3>\n",
            "\t\t\t\t<p>Build a credible brand identity with your custom domain name - included for free with all premium plans.</p>\n",
            "\t\t\t</li>\n",
            "\t\t\t<li class=\"i4\">\n",
            "\t\t\t\t<i></i>\n",
            "\t\t\t\t<h3>Free Drag &amp; Drop <span>Website Builder</span></h3>\n",
            "\t\t\t\t<p>Choose any website template design, drag and drop to customize your content. No coding experience required.</p>\n",
            "\t\t\t</li>\n",
            "\t\t\t<li class=\"i1\">\n",
            "\t\t\t\t<i></i>\n",
            "\t\t\t\t<h3>Free <span>Web Hosting</span></h3>\n",
            "\t\t\t\t<p>Host your website for free with any of our plans! Just hit publish, and get your website and files online instantly.</p>\n",
            "\t\t\t</li>\n",
            "\t\t\t<li class=\"i3\">\n",
            "\t\t\t\t<i></i>\n",
            "\t\t\t\t<h3>Free <span>Ecommerce</span></h3>\n",
            "\t\t\t\t<p>Start selling from your online store! Use PayPal or other payment options to accept major credit cards. 100% commission free from us.</p>\n",
            "\t\t\t</li>\n",
            "\t\t</ul>\n",
            "\t</div>\n",
            "</div>\n",
            "<div id=\"homeScrollDown\"></div>\n",
            "<div id=\"multiling\" class=\"section ml1\">\n",
            "\t<div class=\"row\">\n",
            "\t\t<div class=\"col\">\n",
            "\t\t\t<div class=\"content\">\n",
            "\t\t\t\t<div class=\"subTitle\">Solutions for</div>\n",
            "\t\t\t\t<div id=\"ml1\" class=\"item shown active\">\n",
            "\t\t\t\t\t<div class=\"title\">Multilingual Sites</div>\n",
            "\t\t\t\t\t<p>Expand your business to cater to multiple countries, or simply get connected with a new region. \n",
            "\t\t\t\t\tWhatever your plan, explore multi-language site capabilities to engage a global audience.</p>\n",
            "\t\t\t\t</div>\n",
            "\t\t\t\t<div id=\"ml2\" class=\"item\">\n",
            "\t\t\t\t\t<div class=\"title\">Restaurants</div>\n",
            "\t\t\t\t\t<p>Create your irresistible restaurant website, with tantalizing layouts, effortless online reservations, and simple menu management.</p>\n",
            "\t\t\t\t</div>\n",
            "\t\t\t\t<div id=\"ml3\" class=\"item\">\n",
            "\t\t\t\t\t<div class=\"title\">Online Stores</div>\n",
            "\t\t\t\t\t<p>Everything you need for your online store to excel. Online and offline payment, beautiful product galleries, coupon code \n",
            "\t\t\t\t\tfunctionality, and more.</p>\n",
            "\t\t\t\t</div>\n",
            "\t\t\t\t<div id=\"ml4\" class=\"item\">\n",
            "\t\t\t\t\t<div class=\"title\">Artists</div>\n",
            "\t\t\t\t\t<p>Let your portfolio reveal the artist within. Demonstrate your work at the highest level with captivating layouts, charming \n",
            "\t\t\t\t\tgalleries, and contact forms.</p>\n",
            "\t\t\t\t</div>\n",
            "\t\t\t\t<div id=\"ml5\" class=\"item\">\n",
            "\t\t\t\t\t<div class=\"title\">Photographers</div>\n",
            "\t\t\t\t\t<p>Stun visitors with alluring portfolios and layouts that highlight your work.</p>\n",
            "\t\t\t\t</div>\n",
            "\t\t\t\t<div id=\"ml6\" class=\"item\">\n",
            "\t\t\t\t\t<div class=\"title\">Small Businesses</div>\n",
            "\t\t\t\t\t<p>Gain credibility with a professional website. Start with a designer template, and easily add images and features to make an impression.</p>\n",
            "\t\t\t\t</div>\n",
            "\t\t\t\t<div id=\"ml7\" class=\"item\">\n",
            "\t\t\t\t\t<div class=\"title\">Everyone</div>\n",
            "\t\t\t\t\t<p>With fully customizable templates and features for every industry - if you can dream it, you can build it. No experience needed.</p>\n",
            "\t\t\t\t</div>\n",
            "\t\t\t</div>\n",
            "\t\t</div>\n",
            "\t</div>\n",
            "\t<div class=\"animateSide\">\n",
            "\t\t<div class=\"mainImg lazy-bg\">\n",
            "\t\t\t<div id=\"ml1-1\" class=\"active\"></div>\n",
            "\t\t\t<div id=\"ml2-1\"></div>\n",
            "\t\t\t<div id=\"ml3-1\"></div>\n",
            "\t\t\t<div id=\"ml4-1\"></div>\n",
            "\t\t\t<div id=\"ml5-1\"></div>\n",
            "\t\t\t<div id=\"ml6-1\"></div>\n",
            "\t\t\t<div id=\"ml7-1\"></div>\n",
            "\t\t</div>\n",
            "\t\t<div class=\"bg lazy-bg\">\n",
            "\t\t\t<div id=\"ml1-2\" class=\"active\"></div>\n",
            "\t\t\t<div id=\"ml2-2\"></div>\n",
            "\t\t\t<div id=\"ml3-2\"></div>\n",
            "\t\t\t<div id=\"ml4-2\"></div>\n",
            "\t\t\t<div id=\"ml5-2\"></div>\n",
            "\t\t\t<div id=\"ml6-2\"></div>\n",
            "\t\t\t<div id=\"ml7-2\"></div>\n",
            "\t\t</div>\n",
            "\t</div>\n",
            "\t<div class=\"pagination\">\n",
            "\t\t<ul>\n",
            "\t\t\t<li class=\"ml1 active\"><span></span></li>\n",
            "\t\t\t<li class=\"ml2\"><span></span></li>\n",
            "\t\t\t<li class=\"ml3\"><span></span></li>\n",
            "\t\t\t<li class=\"ml4\"><span></span></li>\n",
            "\t\t\t<li class=\"ml5\"><span></span></li>\n",
            "\t\t\t<li class=\"ml6\"><span></span></li>\n",
            "\t\t\t<li class=\"ml7\"><span></span></li>\n",
            "\t\t</ul>\n",
            "\t</div>\n",
            "</div>\t\n",
            "<div id=\"international\" class=\"section lazy-bg\">\n",
            "\t<div class=\"content\">\n",
            "\t\t<div class=\"title\">Reach international heights with multilingual sites.</div>\n",
            "\t\t<p>Easily cater to site visitors from across the pond. Our platform allows you to create a multi-language website \n",
            "\t\tso your visitors never miss a beat - no matter where they are.</p>\n",
            "\t</div>\n",
            "</div>\t\t\n",
            "<div id=\"anyStage\" class=\"section lazy-bg\">\n",
            "\t<div class=\"row\">\n",
            "\t\t<div class=\"col\">\n",
            "\t\t\t<div class=\"content\">\n",
            "\t\t\t\t<div class=\"title\">At any stage, you'll look like a pro from the word \"go.\"</div>\n",
            "\t\t\t\t<p>Our designer-made templates take the guesswork out of building a beautiful site. \n",
            "\t\t\t\tPick a design and personalize it with your own images and favorite features. <a href=\"/website-templates/\">View templates</a></p>\n",
            "\t\t\t</div>\n",
            "\t\t</div>\n",
            "\t</div>\n",
            "</div>\n",
            "<div id=\"dragDrop\" class=\"section lazy-bg\">\n",
            "\t<div class=\"row\">\n",
            "\t\t<div class=\"col\">\n",
            "\t\t\t<div class=\"img lazy-bg\"></div>\n",
            "\t\t</div>\n",
            "\t\t<div class=\"col\">\n",
            "\t\t\t<div class=\"content\">\n",
            "\t\t\t\t<div class=\"title\">Drag and drop to build, click to get online. Let's not complicate things.</div>\n",
            "\t\t\t\t\n",
            "\t\t\t\t<p>With our free website builder, you can add hundreds of features, like contact forms, online booking, \n",
            "\t\t\t\tand social media buttons. Explore thousands of copyright free images that are yours for the taking. \n",
            "\t\t\t\tYou don't need to be a coding genius (but then again, you could be!).</p>\n",
            "\t\t\t\t\n",
            "\t\t\t</div>\n",
            "\t\t</div>\n",
            "\t</div>\n",
            "</div>\t\t\n",
            "<div id=\"reviews\" class=\"section\">\n",
            "\t<div class=\"row\">\n",
            "\t\t<div class=\"col\">\n",
            "\t\t\t<div class=\"content\">\n",
            "\t\t\t\t<div class=\"title\">Rated 4.7 Out of 5 by 50000+ Customers</div>\n",
            "\t\t\t\t<p class=\"shopperApproved\">Shopper Approved®</p>\n",
            "\t\t\t\t<div id=\"ratings\"></div>\n",
            "\t\t\t\t<div id=\"shopperapproved\">\n",
            "\t\t\t\t\t<img src=\"//www.shopperapproved.com/seals/14538-r.gif\" style=\"border: 0\" alt=\"Customer Reviews\" oncontextmenu=\"var d = new Date(); alert('Copying Prohibited by Law - This image and all included logos are copyrighted by Shopper Approved \\251 '+d.getFullYear()+'.'); return false;\">\n",
            "\t\t\t\t</div>\n",
            "\t\t\t</div>\n",
            "\t\t</div>\n",
            "\t\t<div class=\"col\">\n",
            "\t\t\t<div class=\"content\">\n",
            "\t\t\t\t<div class=\"title\">The site builder everyone's talking about.</div>\n",
            "\t\t\t\t<p>As seen in</p>\n",
            "\t\t\t\t<div id=\"reviewLogos\" class=\"lazy-bg\">\n",
            "\t\t\t\t\t<ul>\n",
            "\t\t\t\t\t\t<li class=\"i1\"><span></span></li>\n",
            "\t\t\t\t\t\t<li class=\"i2\"><span></span></li>\n",
            "\t\t\t\t\t\t<li class=\"i3\"><span></span></li>\n",
            "\t\t\t\t\t</ul>\n",
            "\t\t\t\t</div>\n",
            "\t\t\t</div>\n",
            "\t\t</div>\n",
            "\t</div>\n",
            "</div>\t\n",
            "<div id=\"freePlans\" class=\"section\">\n",
            "\t<div class=\"content\">\n",
            "\t\t\n",
            "\t\t<div class=\"title\">Free plans, <span class=\"break\">and beyond.</span></div>\n",
            "\t\t<p>From start to finish, we provide all the features you need to build your entire website for free. <br><br>\n",
            "\t\tWhen you're looking to advance to the next level, we've got the premium features to get you there.</p>\n",
            "\t\t\n",
            "\t\t<a class=\"btn\" href=\"/sign-up/\">Get Started</a>\n",
            "\t</div>\n",
            "</div>\n",
            "\n",
            "<div id=\"site-body-footer\"></div>\n",
            "</div>\n",
            "</div>\n",
            "<div id=\"site-footer\">\n",
            "\t<div class=\"wrapper clearfix\">\n",
            "\t\t\n",
            "<ul id=\"footer-links\" class=\"clearfix\" data-currenttime=\"1\" data-pagetime=\"90\" data-sitetime=\"180\">\n",
            "\t<li class=\"columns col1\">\n",
            "\t\t<input type=\"checkbox\" name=\"1colLabel\" id=\"1colLabel\">\n",
            "\t\t<label class=\"colTop\" for=\"1colLabel\">Product<i></i></label>\n",
            "\t\t<ul>\n",
            "\t\t\t<li><a href=\"/website-templates/\" class=\"websiteTemplatePath\" title=\"Templates\">Templates<span></span></a></li>\n",
            "\t\t\t<li><a href=\"/features/\" title=\"Features\">Features<span></span></a></li>\n",
            "\t\t\t<li><a href=\"/website-builder/\" title=\"Site Builder\">Site Builder<span></span></a></li>\n",
            "\t\t\t<li><a href=\"/ecommerce/\" title=\"Ecommerce\">Ecommerce<span></span></a></li>\n",
            "\t\t\t<li><a href=\"/restaurant-website/\" title=\"Restaurant\">Restaurant<span></span></a></li>\n",
            "\t\t\t<li><a href=\"/multilingual-website/\" title=\"Multilingual\">Multilingual<span></span></a></li>\n",
            "\t\t\t<li class=\"tworow\"><a href=\"/seo/\" title=\"Easy SEO\">Easy SEO<span></span></a></li>\n",
            "\t\t\t<li class=\"tworow\"><a href=\"/ab-testing/\" title=\"A/B Testing\">A/B Testing<span></span></a></li>\n",
            "\t\t\t<li><a href=\"/pricing/\" title=\"Plans\">Plans<span></span></a></li>\n",
            "\t\t\t\n",
            "\t\t\t<li><a href=\"/affiliate/\" title=\"Affiliate Program\">Affiliate Program<span></span></a></li>\t\n",
            "\t\t\t\n",
            "\t\t\t<li><a href=\"/webmail/sign-in/\" title=\"Webmail Login\">Webmail Login<span></span></a></li>\n",
            "\t\t\t\n",
            "\t\t\t\t<li><a href=\"/sign-in/\" title=\"My Site Login\">My Site Login<span></span></a></li>\n",
            "\t\t\t\n",
            "\t\t\t\t<li><a href=\"/affiliate/sign-in/\" title=\"Affiliate Login\">Affiliate Login<span></span></a></li>\n",
            "\t\t\t\n",
            "\t\t</ul>\n",
            "\t</li>\n",
            "\t<li class=\"columns col2\">\n",
            "\t\t<input type=\"checkbox\" name=\"2colLabel\" id=\"2colLabel\">\n",
            "\t\t<label class=\"colTop\" for=\"2colLabel\">Company<i></i></label>\n",
            "\t\t<ul>\n",
            "\t\t\t<li><a href=\"http://blog.website.com\" target=\"_blank\" rel=\"noopener noreferrer\" title=\"Our Blog\">Our Blog<span></span></a></li>\n",
            "\t\t\t<li><a href=\"/about-us/\" title=\"About Us\">About Us<span></span></a></li>\n",
            "\t\t\t<li><a href=\"/press-and-updates/latest/\" title=\"Press and Updates\">Press and Updates<span></span></a></li>\n",
            "\t\t\t<li><a href=\"/contact-us/\" title=\"Contact Us\">Contact Us<span></span></a></li>\n",
            "\t\t\t<li><a href=\"/reviews/\" title=\"Reviews\">Reviews<span></span></a></li>\n",
            "\t\t\t<li><a href=\"/terms-and-conditions/\" title=\"Terms &amp; Conditions\">Terms &amp; Conditions<span></span></a></li>\n",
            "\t\t\t\n",
            "\t\t\t\t<li class=\"tworow\"><a href=\"/affiliate/terms-and-conditions/\" title=\"Affiliate Terms &amp; Conditions\">Affiliate Terms &amp; Conditions<span></span></a></li>\n",
            "\t\t\t\n",
            "\t\t\t<li><a href=\"/privacy-policy/\" title=\"Privacy Policy\">Privacy Policy<span></span></a></li>\n",
            "\t\t\t<li><a href=\"/cookie-policy/\" title=\"Cookie Policy\">Cookie Policy<span></span></a></li>\n",
            "\t\t\t<li class=\"terms first\"><a href=\"/domain-registration-agreement/\" title=\"Domain Registration Agreement\">Domain Registration Agreement<span></span></a></li>\n",
            "\t\t\t<li class=\"terms\"><a href=\"https://www.icann.org/en/registrars/registrant-rights-responsibilities-en.htm\" target=\"_blank\" rel=\"noopener noreferrer\" title=\"ICANN Registrant Rights and Responsibilities\">ICANN Registrant Rights and Responsibilities<span></span></a></li>\n",
            "\t\t\t<li class=\"terms\"><a href=\"https://www.icann.org/resources/pages/educational-2012-02-25-en\" target=\"_blank\" rel=\"noopener noreferrer\" title=\"ICANN Registrant Educational Materials\">ICANN Registrant Educational Materials<span></span></a></li>\n",
            "\t\t\t<li class=\"terms tworow\"><a href=\"https://www.icann.org/resources/pages/benefits-2013-09-16-en\" target=\"_blank\" rel=\"noopener noreferrer\" title=\"ICANN Registrants' Benefits and Responsibilities\">ICANN Registrants' Benefits and Responsibilities<span></span></a></li>\n",
            "\t\t</ul>\n",
            "\t</li>\n",
            "\t<li class=\"columns col3\">\n",
            "\t\t<input type=\"checkbox\" name=\"3colLabel\" id=\"3colLabel\">\n",
            "\t\t<label class=\"colTop\" for=\"3colLabel\">Support <i></i></label>\n",
            "\t\t<ul>\n",
            "\t\t\t<li><a href=\"/resources/\" title=\"Resources\">Resources<span></span></a></li>\n",
            "\t\t\t<li class=\"tworow\"><a href=\"/website-builder-and-web-design/\" title=\"Website Builder and Web Design Articles\">Website Builder and Web Design Articles<span></span></a></li>\n",
            "\t\t\t<li><a href=\"/beginnerguide/\" title=\"Learning Center\">Learning Center<span></span></a></li>\n",
            "\t\t\t<li><a href=\"/faq/\" title=\"FAQ\">FAQ<span></span></a></li>\n",
            "\t\t\t<li><a href=\"/forgot-password/\" title=\"Forgot Password\">Forgot Password<span></span></a></li>\t\n",
            "\t\t</ul>\n",
            "\t</li>\n",
            "\t<li class=\"columns col4\">\n",
            "\t\t<div class=\"footer-logo\"><a href=\"/\"></a></div>\n",
            "\t\t<div id=\"footer-copyright\">\n",
            "\t\t\tCopyright © 2004-2020 Website.com Solutions Inc. \n",
            "\t\t\tAll Rights Reserved. All other trademarks and copyrights are the property of their respective holders.\n",
            "\t\t</div>\n",
            "\t\t\n",
            "\t\t<ul id=\"socialLike\">\n",
            "\t\t\t<li><iframe src=\"//www.facebook.com/plugins/like.php?href=http%3A%2F%2Fwww.facebook.com%2Fwebsitedotcom&amp;send=false&amp;layout=button_count&amp;width=80&amp;show_faces=false&amp;font=segoe+ui&amp;colorscheme=light&amp;action=like&amp;height=21\" scrolling=\"no\" frameborder=\"0\" style=\"border:none; overflow:hidden; width:82px; height:21px;\" allowtransparency=\"true\"></iframe></li>\n",
            "\t\t</ul>\n",
            "\t\t\n",
            "\t\t<ul class=\"socialIcons clearfix\">\n",
            "\t\t\t<li><a href=\"https://www.facebook.com/websitedotcom\" target=\"_blank\" rel=\"noopener noreferrer\" class=\"facebook\" title=\"Facebook\"></a></li>\n",
            "\t\t\t<li><a href=\"https://www.twitter.com/websitedotcom\" target=\"_blank\" rel=\"noopener noreferrer\" class=\"twitter\" title=\"Twitter\"></a></li>\n",
            "\t\t\t<li><a href=\"https://www.youtube.com/websitedotcom\" target=\"_blank\" rel=\"noopener noreferrer\" class=\"youtube\" title=\"YouTube\"></a></li>\n",
            "\t\t\t<li><a href=\"https://blog.website.com\" target=\"_blank\" rel=\"noopener noreferrer\" class=\"wsblog\" title=\"Website.com Official Blog\"></a></li>\n",
            "\t\t</ul>\t\n",
            "\t</li>\n",
            "</ul>\n",
            "\n",
            "<script type=\"text/javascript\">\n",
            "  \tvar _gaq = _gaq || [];\n",
            "  \t_gaq.push(['_setAccount', 'UA-4226146-1']);\n",
            "  \t_gaq.push(['_trackPageview']);\n",
            "\n",
            "  \t(function() {\n",
            "    \tvar ga = document.createElement('script'); ga.type = 'text/javascript'; ga.async = true;\n",
            "    \tga.src = ('https:' == document.location.protocol ? 'https://ssl' : 'http://www') + '.google-analytics.com/ga.js';\n",
            "   \t \tvar s = document.getElementsByTagName('script')[0]; s.parentNode.insertBefore(ga, s);\n",
            "  \t})();\n",
            "</script>\n",
            "<script type=\"text/javascript\">\n",
            "\tadroll_adv_id = \"O6JGJWLMA5GCBLAJOOV7MA\";\n",
            "\tadroll_pix_id = \"3YHASKE27RAYFAJWKW6PCF\";\n",
            "\t(function () {\n",
            "\t\tvar oldonload = window.onload;\n",
            "\t\twindow.onload = function(){\n",
            "\t\t   __adroll_loaded=true;\n",
            "\t\t   var scr = document.createElement(\"script\");\n",
            "\t\t   var host = ((\"https:\" == document.location.protocol) ? \"https://s.adroll.com\" : \"http://a.adroll.com\");\n",
            "\t\t   scr.setAttribute('async', 'true');\n",
            "\t\t   scr.type = \"text/javascript\";\n",
            "\t\t   scr.src = host + \"/j/roundtrip.js\";\n",
            "\t\t   ((document.getElementsByTagName('head') || [null])[0] ||\n",
            "\t\t    document.getElementsByTagName('script')[0].parentNode).appendChild(scr);\n",
            "\t\t   if(oldonload){oldonload()}};\n",
            "\t}());\n",
            "</script>\n",
            "\n",
            "<script type=\"text/javascript\" async=\"\">(function() { var js = window.document.createElement(\"script\"); js.src = '//www.shopperapproved.com/seals/certificate.js'; js.type = \"text/javascript\"; document.getElementsByTagName(\"head\")[0].appendChild(js); })();</script>\n",
            "\n",
            "\t</div>\n",
            "</div>\n",
            "<a href=\"#\" class=\"backToTop\"><span><i></i>TOP</span></a>\n",
            "\n",
            "<script>\n",
            "  var gfontFamilies =  new Array();\n",
            "gfontFamilies[0] = \"Nunito Sans:300,400,600,700,800,900\";\n",
            ";\n",
            "  WebFontConfig = { google: { families: gfontFamilies }};\n",
            "  (function(d) {\n",
            "      var wf = d.createElement('script'), s = d.scripts[0];\n",
            "      wf.src = 'https://ajax.googleapis.com/ajax/libs/webfont/1.6.26/webfont.js';\n",
            "      wf.async = true;\n",
            "      s.parentNode.insertBefore(wf, s);\n",
            "   })(document);\n",
            "</script>\n",
            "\n",
            "<script src=\"/js/homepage-pack.js?20200430033331\"></script>\n",
            "\n",
            "\n",
            "\n",
            "<iframe id=\"wsLiveChat\" src=\"/livechat/\" width=\"1\" height=\"1\" style=\"position:absolute;top:-9999px;\" tabindex=\"-1\"></iframe></body></html>\n"
          ],
          "name": "stdout"
        }
      ]
    },
    {
      "cell_type": "code",
      "metadata": {
        "id": "LY5ZYXtVvOhQ",
        "colab_type": "code",
        "outputId": "4ba8d25b-500a-4c28-f3ac-b7cc673fa64c",
        "colab": {
          "base_uri": "https://localhost:8080/",
          "height": 106
        }
      },
      "source": [
        "!pip install XlsxWriter"
      ],
      "execution_count": 2,
      "outputs": [
        {
          "output_type": "stream",
          "text": [
            "Collecting XlsxWriter\n",
            "\u001b[?25l  Downloading https://files.pythonhosted.org/packages/00/1f/2092a81056d36c1b6651a645aa84c1f76bcee03103072d4fe1cb58501d69/XlsxWriter-1.2.8-py2.py3-none-any.whl (141kB)\n",
            "\r\u001b[K     |██▎                             | 10kB 17.4MB/s eta 0:00:01\r\u001b[K     |████▋                           | 20kB 1.7MB/s eta 0:00:01\r\u001b[K     |███████                         | 30kB 2.3MB/s eta 0:00:01\r\u001b[K     |█████████▎                      | 40kB 2.5MB/s eta 0:00:01\r\u001b[K     |███████████▋                    | 51kB 2.0MB/s eta 0:00:01\r\u001b[K     |██████████████                  | 61kB 2.3MB/s eta 0:00:01\r\u001b[K     |████████████████▏               | 71kB 2.5MB/s eta 0:00:01\r\u001b[K     |██████████████████▌             | 81kB 2.7MB/s eta 0:00:01\r\u001b[K     |████████████████████▉           | 92kB 2.9MB/s eta 0:00:01\r\u001b[K     |███████████████████████▏        | 102kB 2.8MB/s eta 0:00:01\r\u001b[K     |█████████████████████████▌      | 112kB 2.8MB/s eta 0:00:01\r\u001b[K     |███████████████████████████▉    | 122kB 2.8MB/s eta 0:00:01\r\u001b[K     |██████████████████████████████  | 133kB 2.8MB/s eta 0:00:01\r\u001b[K     |████████████████████████████████| 143kB 2.8MB/s \n",
            "\u001b[?25hInstalling collected packages: XlsxWriter\n",
            "Successfully installed XlsxWriter-1.2.8\n"
          ],
          "name": "stdout"
        }
      ]
    },
    {
      "cell_type": "code",
      "metadata": {
        "id": "sk69B5ca70WH",
        "colab_type": "code",
        "colab": {}
      },
      "source": [
        "from selenium import webdriver\n",
        "import numpy as np\n",
        "import pandas as pd\n",
        "import requests\n",
        "import urllib.request\n",
        "import time\n",
        "import bs4\n",
        "import lxml.etree as xml\n",
        "import json\n",
        "from bs4 import BeautifulSoup\n",
        "import csv\n",
        "import re\n",
        "from selenium.common.exceptions import WebDriverException\n",
        "from selenium import webdriver\n",
        "from selenium.webdriver.support.ui import WebDriverWait\n",
        "from selenium.webdriver.support import expected_conditions as EC\n",
        "from selenium.webdriver.common.by import By\n",
        "from selenium.common.exceptions import TimeoutException\n",
        "from google.colab import files\n",
        "from selenium.webdriver.common.keys import Keys\n",
        "import xlsxwriter\n",
        "from tqdm import tqdm"
      ],
      "execution_count": 0,
      "outputs": []
    },
    {
      "cell_type": "code",
      "metadata": {
        "id": "4OrxrPHgAQ4c",
        "colab_type": "code",
        "colab": {}
      },
      "source": [
        "def ren_equipe(url):\n",
        "  equipe = []\n",
        "  i_split = url.split('/')\n",
        "  i_equipe = i_split[7].split('-')\n",
        "  if len(i_equipe) > 3:\n",
        "    if i_equipe[0] == 'paris' or i_equipe[0] == 'saint' or i_equipe[0] == 'ac':\n",
        "      del i_equipe[1]\n",
        "    if i_equipe[1] == 'paris' or i_equipe[1] == 'saint' or i_equipe[1] == 'ac':\n",
        "      del i_equipe[2]\n",
        "  for j in range(2):\n",
        "    if i_equipe[j] == 'ol': i_equipe[j] = 'lyon'\n",
        "    elif i_equipe[j] == 'psg': i_equipe[j] = 'paris'\n",
        "    elif i_equipe[j] == 'saint'or i_equipe[j] == 'asse': i_equipe[j] = 'saint etienne'\n",
        "    elif i_equipe[j] == 'ac'or i_equipe[j] == 'gfc': i_equipe[j] = 'ajaccio'\n",
        "    elif i_equipe[j] == 'om': i_equipe[j] = 'marseille'\n",
        "  equipe.append(i_equipe[0][0].upper()+i_equipe[0][1:])\n",
        "  equipe.append(i_equipe[1][0].upper()+i_equipe[1][1:])\n",
        "  return equipe"
      ],
      "execution_count": 0,
      "outputs": []
    },
    {
      "cell_type": "code",
      "metadata": {
        "id": "kc0qR8rAQDF_",
        "colab_type": "code",
        "colab": {}
      },
      "source": [
        "def create_dataset_Commentaire_Sans_Resume(url,num_match,year):\n",
        "\n",
        "  ### WEBDRIVER OPTIONS ###\n",
        "  options = webdriver.ChromeOptions()\n",
        "  options.add_argument('--headless')\n",
        "  options.add_argument('--no-sandbox')\n",
        "  options.add_argument('--disable-dev-shm-usage')\n",
        "  options.add_argument('--ignore-certificate-errors')\n",
        "  options.add_argument(\"--test-type\")\n",
        "  options.add_argument('--disable-browser-side-navigation')\n",
        "  browser = webdriver.Chrome('chromedriver',options=options)\n",
        "  \n",
        "\n",
        "  for i, idx_match in zip(url, tqdm(range(len(url)))) :\n",
        "\n",
        "    try:\n",
        "\n",
        "      row_important = 0\n",
        "      row = 0\n",
        "      col = 0\n",
        "      commentaire_avant_match = False\n",
        "      row_commentaire_avant_match = 0\n",
        "      index_match_equipe_saison = '-'.join(i.split('/')[6:])\n",
        "\n",
        "      ### EXCEL FILES CREATION ###\n",
        "      workbook = xlsxwriter.Workbook(\"CommentaireMatch\"+'-'+str(idx_match)+'-'+str(index_match_equipe_saison)+\".xlsx\")\n",
        "      workbook_stats = xlsxwriter.Workbook(\"Stats\"+'-'+str(idx_match)+'-'+str(index_match_equipe_saison)+\".xlsx\")\n",
        "      workbook_scorer = xlsxwriter.Workbook(\"Scorer\"+'-'+str(idx_match)+'-'+str(index_match_equipe_saison)+\".xlsx\")\n",
        "      workbook_important = xlsxwriter.Workbook(\"important\"+'-'+str(idx_match)+'-'+str(index_match_equipe_saison)+\".xlsx\")\n",
        "      workbook_avant_match = xlsxwriter.Workbook(\"avant_match\"+'-'+str(idx_match)+'-'+str(index_match_equipe_saison)+\".xlsx\")\n",
        "      workbook_resume = xlsxwriter.Workbook(\"resume\"+'-'+str(idx_match)+'-'+str(index_match_equipe_saison)+\".xlsx\")\n",
        "      workbook_phrase_but = xlsxwriter.Workbook(\"phrase_but\"+'-'+str(idx_match)+'-'+str(index_match_equipe_saison)+\".xlsx\")\n",
        "\n",
        "      worksheet = workbook.add_worksheet()\n",
        "      worksheet_stats = workbook_stats.add_worksheet()\n",
        "      worksheet_scorer = workbook_scorer.add_worksheet()\n",
        "      worksheet_important = workbook_important.add_worksheet()\n",
        "      worksheet_avant_match = workbook_avant_match.add_worksheet()\n",
        "      worksheet_resume = workbook_resume.add_worksheet()\n",
        "      worksheet_phrase_but = workbook_phrase_but.add_worksheet()\n",
        "\n",
        "      browser.get(i)\n",
        "      time.sleep(1)\n",
        "      compteur = 1\n",
        "\n",
        "      ### REGULAR EXPRESSIONS ###\n",
        "      a = 0\n",
        "      apo='\\''\n",
        "      empty=''\n",
        "      plus = \"+\"\n",
        "      ex = \"*\"\n",
        "      note=r'[0-9]+\\/.[0-9]+'\n",
        "      twitter=r'.*(PM).*(Twitter)?.*'\n",
        "      compt = 0\n",
        "      regex_time=r'[0-9]+\\'\\s?\\+?[0-9]*'\n",
        "      regex_if=r'\\w'\n",
        "      data={}\n",
        "      data[\"moments\"]=[]\n",
        "      reg=r'.*But+.*'\n",
        "      mid=r'45+?.*'\n",
        "      regex_score_equipe1=r'([A-Z]+.*[0-9]’)'\n",
        "      regex_score_equipe2=r'([0-9]+’.*[A-Z]+.*)'\n",
        "      ### WEB PAGE NAVIGATION ###\n",
        "      elem = browser.find_element_by_tag_name(\"body\")\n",
        "      no_of_pagedowns = 25\n",
        "      while no_of_pagedowns:\n",
        "          elem.send_keys(Keys.PAGE_DOWN)\n",
        "          time.sleep(0.3)\n",
        "          no_of_pagedowns-=1\n",
        "\n",
        "      ### DATA LIST CREATION ###\n",
        "      info = []\n",
        "      info_stat = []\n",
        "      info_score = []\n",
        "\n",
        "      \n",
        "\n",
        "      telem = browser.find_elements_by_class_name(\"TeamScore__identity\")\n",
        "      #equipe_dom= \"\"\n",
        "      #equipe_ext= \"\"\n",
        "      if len(telem)>0:\n",
        "        equipe_dom = telem[0].text\n",
        "        equipe_ext = telem[1].text\n",
        "        if equipe_dom == \"PSG\":\n",
        "          equipe_dom= \"Paris\"\n",
        "        if equipe_ext == \"PSG\":\n",
        "          equipe_ext= \"Paris\"\n",
        "      else :\n",
        "        equipe_dom, equipe_ext = ren_equipe(i)\n",
        "      #SCORERS\n",
        "      row_score1 = 0\n",
        "      row_score2 = 0\n",
        "      test= browser.find_elements_by_class_name(\"Scoreboard__goals\")\n",
        "      for texts in test:\n",
        "        if(re.match(regex_score_equipe1,texts.text)):\n",
        "          worksheet_scorer.write(row_score1, 0, texts.text)\n",
        "          spli = texts.text.split(\" \")\n",
        "          if len(spli)==3:\n",
        "            sentence = spli[0] + \" \" + spli[1] + \" a marqué un but pour \" + equipe_dom + \" à la \" + spli[2] + \".\"\n",
        "          if len(spli)==2:\n",
        "            sentence = spli[0] +  \" a marqué un but pour \" + equipe_dom + \" à la \" + spli[1] + \".\"\n",
        "          worksheet_phrase_but.write(row_score1, 0, sentence)\n",
        "          row_score1+=1\n",
        "        if(re.match(regex_score_equipe2,texts.text)):\n",
        "          worksheet_scorer.write(row_score2, 1, texts.text)\n",
        "          spli = texts.text.split(\" \")\n",
        "          if len(spli)==3:\n",
        "            sentence = spli[1] + \" \" + spli[2] + \" a marqué un but pour \" + equipe_ext + \" à la \" + spli[0] + \".\"\n",
        "          if len(spli)==2:\n",
        "            sentence = spli[1] +  \" a marqué un but pour \" + equipe_ext + \" à la \" + spli[0] + \".\"\n",
        "          worksheet_phrase_but.write(row_score2, 1, sentence)\n",
        "          row_score2+=1\n",
        "      workbook_scorer.close()\n",
        "      workbook_phrase_but.close()\n",
        "\n",
        "      #GAME SCORE\n",
        "      post_elems = browser.find_elements_by_class_name(\"TeamScore__team--winner\") # TeamScore__score # TeamScore__team--looser # TeamScore__team--winner\n",
        "      for texts in post_elems:\n",
        "        info.append(texts.text)\n",
        "      post_elems = browser.find_elements_by_class_name(\"TeamScore__team--looser\") # TeamScore__score # TeamScore__team--looser # TeamScore__team--winner\n",
        "      for texts in post_elems:\n",
        "        info.append(texts.text) \n",
        "      if info != []:\n",
        "        if info[0].isdigit():\n",
        "          phrase = info[1] +\" gagne le match contre \" + info[2] + \" sur un score de \" + info[0]+\"-\"+info[3] + \".\"\n",
        "        else :\n",
        "          phrase = info[0] +\" gagne le match contre \" + info[3] + \" sur un score de \" + info[1]+\"-\"+info[2] + \".\"\n",
        "      else :\n",
        "        post_elems = browser.find_elements_by_class_name(\"TeamScore__name\") \n",
        "        for texts in post_elems:\n",
        "          info.append(texts.text)\n",
        "        post_elems = browser.find_elements_by_class_name(\"TeamScore__score--ended\") \n",
        "        for texts in post_elems:\n",
        "          info.append(texts.text)\n",
        "        phrase = info[0] +\" fait match nul contre \" + info[1] + \" sur un score de \" + info[2] + \".\"\n",
        "      worksheet.write(row, col, phrase)\n",
        "      row +=1\n",
        "\n",
        "      #SENTENCES\n",
        "      post_elems = browser.find_elements_by_class_name(\"grid__item\")\n",
        "      for texts in post_elems:\n",
        "        if compteur >=0:\n",
        "          if texts.text == \"\" or re.search(r'.*Notez.*',texts.text) or re.search(r'Top du match.*',texts.text) or re.search(r'Flop du match.*',texts.text) or re.search(r'.*note.*',texts.text) or re.search(r'.*[?].*',texts.text) or re.search(r'.*Twitter.*',texts.text): \n",
        "            a = a +1\n",
        "          el= texts.find_elements_by_tag_name(\"img\") \n",
        "          for em in el:\n",
        "            if em.get_attribute('src')==\"https://www.lequipe.fr/img/icons/live/but.svg\"  or em.get_attribute('src')==\"https://www.lequipe.fr/img/icons/live/carton_rouge.svg\" or em.get_attribute('src')==\"https://www.lequipe.fr/img/icons/live/but_contre_son_camp.svg\":\n",
        "              worksheet_important.write(row_important, col, texts.text)\n",
        "              print(\"IMPORTANT: \",texts.text)\n",
        "              row_important +=1\n",
        "            if em.get_attribute('src')==\"https://www.lequipe.fr/img/icons/live/sifflet_fin_2mt.svg\":\n",
        "              worksheet_resume.write(0, 0, texts.text.split(\"\\n\")[2])\n",
        "            if em.get_attribute('src')==\"https://www.lequipe.fr/img/icons/live/sifflet_debut_1mt.svg\":\n",
        "              #print(\"DEBUT: \",texts.text)\n",
        "              commentaire_avant_match = True\n",
        "          if commentaire_avant_match == True :\n",
        "            worksheet_avant_match.write(row_commentaire_avant_match, col, texts.text)\n",
        "            #print(texts.text)\n",
        "            row_commentaire_avant_match += 1\n",
        "          else :\n",
        "            worksheet.write(row, col, texts.text)\n",
        "            #print(texts.text)\n",
        "            row +=1\n",
        "        compteur +=1\n",
        "                             \n",
        "      workbook.close()\n",
        "      workbook_important.close()\n",
        "      workbook_resume.close()\n",
        "      workbook_avant_match.close()\n",
        "      #STATISTICS\n",
        "      row_stat = 0\n",
        "      column_stat = 0\n",
        "\n",
        "      browser.get(i+\"#stats\")\n",
        "      elem = browser.find_element_by_tag_name(\"body\")\n",
        "\n",
        "      no_of_pagedowns = 3\n",
        "      while no_of_pagedowns:\n",
        "        elem.send_keys(Keys.PAGE_DOWN)\n",
        "        time.sleep(0.5)\n",
        "        no_of_pagedowns-=1\n",
        "\n",
        "\n",
        "      ti=browser.find_elements_by_class_name(\"ChartHalfdonut__wrapper\")\n",
        "      for texts in ti:\n",
        "        temp=texts.text.split(\"\\n\")\n",
        "        worksheet_stats.write(row_stat, column_stat, temp[0])\n",
        "        column_stat+=1\n",
        "        worksheet_stats.write(row_stat, column_stat, temp[1])\n",
        "        column_stat+=1\n",
        "        worksheet_stats.write(row_stat, column_stat, temp[2])\n",
        "        column_stat=0\n",
        "        row_stat+=1\n",
        "      workbook_stats.close()\n",
        "\n",
        "      files.download(\"Stats\"+'-'+str(idx_match)+'-'+str(index_match_equipe_saison)+\".xlsx\")\n",
        "      files.download(\"Scorer\"+'-'+str(idx_match)+'-'+str(index_match_equipe_saison)+\".xlsx\")\n",
        "      files.download(\"CommentaireMatch\"+'-'+str(idx_match)+'-'+str(index_match_equipe_saison)+\".xlsx\")\n",
        "      files.download(\"important\"+'-'+str(idx_match)+'-'+str(index_match_equipe_saison)+\".xlsx\")\n",
        "      files.download(\"avant_match\"+'-'+str(idx_match)+'-'+str(index_match_equipe_saison)+\".xlsx\")\n",
        "      files.download(\"phrase_but\"+'-'+str(idx_match)+'-'+str(index_match_equipe_saison)+\".xlsx\")\n",
        "      files.download(\"resume\"+'-'+str(idx_match)+'-'+str(index_match_equipe_saison)+\".xlsx\")\n",
        "\n",
        "    except:\n",
        "      print(idx_match)    \n",
        "    "
      ],
      "execution_count": 0,
      "outputs": []
    },
    {
      "cell_type": "code",
      "metadata": {
        "id": "BmU6EMTGmrlQ",
        "colab_type": "code",
        "outputId": "06ce43b6-9864-4312-cf8f-df1c500db88b",
        "colab": {
          "base_uri": "https://localhost:8080/",
          "height": 54
        }
      },
      "source": [
        "'''def create_dataset_Commentaire_Sans_Resume(url,num_match,year):\n",
        "\n",
        "  ### WEBDRIVER OPTIONS ###\n",
        "  options = webdriver.ChromeOptions()\n",
        "  options.add_argument('--headless')\n",
        "  options.add_argument('--no-sandbox')\n",
        "  options.add_argument('--disable-dev-shm-usage')\n",
        "  options.add_argument('--ignore-certificate-errors')\n",
        "  options.add_argument(\"--test-type\")\n",
        "  options.add_argument('--disable-browser-side-navigation')\n",
        "  browser = webdriver.Chrome('chromedriver',options=options)\n",
        "  \n",
        "\n",
        "  for i, idx_match in zip(url, range(len(url))) :\n",
        "\n",
        "      row_important = 0\n",
        "      row = 0\n",
        "      col = 0\n",
        "      commentaire_avant_match = False\n",
        "      row_commentaire_avant_match = 0\n",
        "      index_match_equipe_saison = '-'.join(i.split('/')[6:])\n",
        "\n",
        "      ### EXCEL FILES CREATION ###\n",
        "      workbook = xlsxwriter.Workbook(\"CommentaireMatch\"+'-'+str(idx_match)+'-'+str(index_match_equipe_saison)+\".xlsx\")\n",
        "      workbook_stats = xlsxwriter.Workbook(\"Stats\"+'-'+str(idx_match)+'-'+str(index_match_equipe_saison)+\".xlsx\")\n",
        "      workbook_scorer = xlsxwriter.Workbook(\"Scorer\"+'-'+str(idx_match)+'-'+str(index_match_equipe_saison)+\".xlsx\")\n",
        "      workbook_important = xlsxwriter.Workbook(\"important\"+'-'+str(idx_match)+'-'+str(index_match_equipe_saison)+\".xlsx\")\n",
        "      workbook_avant_match = xlsxwriter.Workbook(\"avant_match\"+'-'+str(idx_match)+'-'+str(index_match_equipe_saison)+\".xlsx\")\n",
        "      workbook_resume = xlsxwriter.Workbook(\"resume\"+'-'+str(idx_match)+'-'+str(index_match_equipe_saison)+\".xlsx\")\n",
        "      workbook_phrase_but = xlsxwriter.Workbook(\"phrase_but\"+'-'+str(idx_match)+'-'+str(index_match_equipe_saison)+\".xlsx\")\n",
        "\n",
        "      print(\"Stats\"+'-'+str(idx_match)+'-'+str(index_match_equipe_saison)+\".xlsx\")\n",
        "\n",
        "      worksheet = workbook.add_worksheet()\n",
        "      worksheet_stats = workbook_stats.add_worksheet()\n",
        "      worksheet_scorer = workbook_scorer.add_worksheet()\n",
        "      worksheet_important = workbook_important.add_worksheet()\n",
        "      worksheet_avant_match = workbook_avant_match.add_worksheet()\n",
        "      worksheet_resume = workbook_resume.add_worksheet()\n",
        "      worksheet_phrase_but = workbook_phrase_but.add_worksheet()\n",
        "\n",
        "      browser.get(i)\n",
        "      time.sleep(1)\n",
        "      compteur = 1\n",
        "\n",
        "      ### REGULAR EXPRESSIONS ###\n",
        "      a = 0\n",
        "      apo='\\''\n",
        "      empty=''\n",
        "      plus = \"+\"\n",
        "      ex = \"*\"\n",
        "      note=r'[0-9]+\\/.[0-9]+'\n",
        "      twitter=r'.*(PM).*(Twitter)?.*'\n",
        "      compt = 0\n",
        "      regex_time=r'[0-9]+\\'\\s?\\+?[0-9]*'\n",
        "      regex_if=r'\\w'\n",
        "      data={}\n",
        "      data[\"moments\"]=[]\n",
        "      reg=r'.*But+.*'\n",
        "      mid=r'45+?.*'\n",
        "      regex_score_equipe1=r'([A-Z]+.*[0-9]’)'\n",
        "      regex_score_equipe2=r'([0-9]+’.*[A-Z]+.*)'\n",
        "      ### WEB PAGE NAVIGATION ###\n",
        "      elem = browser.find_element_by_tag_name(\"body\")\n",
        "      no_of_pagedowns = 35\n",
        "      while no_of_pagedowns:\n",
        "          elem.send_keys(Keys.PAGE_DOWN)\n",
        "          time.sleep(0.3)\n",
        "          no_of_pagedowns-=1\n",
        "\n",
        "      ### DATA LIST CREATION ###\n",
        "      info = []\n",
        "      info_stat = []\n",
        "      info_score = []\n",
        "\n",
        "      \n",
        "\n",
        "      telem = browser.find_elements_by_class_name(\"TeamScore__identity\")\n",
        "      #equipe_dom= \"\"\n",
        "      #equipe_ext= \"\"\n",
        "      if len(telem)>0:\n",
        "        equipe_dom = telem[0].text\n",
        "        equipe_ext = telem[1].text\n",
        "        if equipe_dom == \"PSG\":\n",
        "          equipe_dom= \"Paris\"\n",
        "        if equipe_ext == \"PSG\":\n",
        "          equipe_ext= \"Paris\"\n",
        "      else :\n",
        "        equipe_dom, equipe_ext = ren_equipe(i)\n",
        "      #SCORERS\n",
        "      row_score1 = 0\n",
        "      row_score2 = 0\n",
        "      test= browser.find_elements_by_class_name(\"Scoreboard__goals\")\n",
        "      for texts in test:\n",
        "        if(re.match(regex_score_equipe1,texts.text)):\n",
        "          worksheet_scorer.write(row_score1, 0, texts.text)\n",
        "          spli = texts.text.split(\" \")\n",
        "          if len(spli)==3:\n",
        "            sentence = spli[0] + \" \" + spli[1] + \" a marqué un but pour \" + equipe_dom + \" à la \" + spli[2] + \".\"\n",
        "          if len(spli)==2:\n",
        "            sentence = spli[0] +  \" a marqué un but pour \" + equipe_dom + \" à la \" + spli[1] + \".\"\n",
        "          worksheet_phrase_but.write(row_score1, 0, sentence)\n",
        "          row_score1+=1\n",
        "        if(re.match(regex_score_equipe2,texts.text)):\n",
        "          worksheet_scorer.write(row_score2, 1, texts.text)\n",
        "          spli = texts.text.split(\" \")\n",
        "          if len(spli)==3:\n",
        "            sentence = spli[1] + \" \" + spli[2] + \" a marqué un but pour \" + equipe_ext + \" à la \" + spli[0] + \".\"\n",
        "          if len(spli)==2:\n",
        "            sentence = spli[1] +  \" a marqué un but pour \" + equipe_ext + \" à la \" + spli[0] + \".\"\n",
        "          worksheet_phrase_but.write(row_score2, 1, sentence)\n",
        "          row_score2+=1\n",
        "      workbook_scorer.close()\n",
        "      workbook_phrase_but.close()\n",
        "\n",
        "      #GAME SCORE\n",
        "      post_elems = browser.find_elements_by_class_name(\"TeamScore__team--winner\") # TeamScore__score # TeamScore__team--looser # TeamScore__team--winner\n",
        "      for texts in post_elems:\n",
        "        info.append(texts.text)\n",
        "      post_elems = browser.find_elements_by_class_name(\"TeamScore__team--looser\") # TeamScore__score # TeamScore__team--looser # TeamScore__team--winner\n",
        "      for texts in post_elems:\n",
        "        info.append(texts.text) \n",
        "      if info != []:\n",
        "        if info[0].isdigit():\n",
        "          phrase = info[1] +\" gagne le match contre \" + info[2] + \" sur un score de \" + info[0]+\"-\"+info[3] + \".\"\n",
        "        else :\n",
        "          phrase = info[0] +\" gagne le match contre \" + info[3] + \" sur un score de \" + info[1]+\"-\"+info[2] + \".\"\n",
        "      else :\n",
        "        post_elems = browser.find_elements_by_class_name(\"TeamScore__name\") \n",
        "        for texts in post_elems:\n",
        "          info.append(texts.text)\n",
        "        post_elems = browser.find_elements_by_class_name(\"TeamScore__score--ended\") \n",
        "        for texts in post_elems:\n",
        "          info.append(texts.text)\n",
        "        phrase = info[0] +\" fait match nul contre \" + info[1] + \" sur un score de \" + info[2] + \".\"\n",
        "      worksheet.write(row, col, phrase)\n",
        "      row +=1\n",
        "\n",
        "      #SENTENCES\n",
        "      post_elems = browser.find_elements_by_class_name(\"grid__item\")\n",
        "      for texts in post_elems:\n",
        "        if compteur >=0:\n",
        "          if texts.text == \"\" or re.search(r'.*Notez.*',texts.text) or re.search(r'Top du match.*',texts.text) or re.search(r'Flop du match.*',texts.text) or re.search(r'.*note.*',texts.text) or re.search(r'.*[?].*',texts.text) or re.search(r'.*Twitter.*',texts.text): \n",
        "            a = a +1\n",
        "          el= texts.find_elements_by_tag_name(\"img\") \n",
        "          for em in el:\n",
        "            if em.get_attribute('src')==\"https://www.lequipe.fr/img/icons/live/but.svg\"  or em.get_attribute('src')==\"https://www.lequipe.fr/img/icons/live/carton_rouge.svg\" or em.get_attribute('src')==\"https://www.lequipe.fr/img/icons/live/but_contre_son_camp.svg\":\n",
        "              worksheet_important.write(row_important, col, texts.text)\n",
        "              #print(\"IMPORTANT: \",texts.text)\n",
        "              row_important +=1\n",
        "            if em.get_attribute('src')==\"https://www.lequipe.fr/img/icons/live/sifflet_fin_2mt.svg\":\n",
        "              worksheet_resume.write(0, 0, texts.text.split(\"\\n\")[2])\n",
        "            if em.get_attribute('src')==\"https://www.lequipe.fr/img/icons/live/sifflet_debut_1mt.svg\":\n",
        "              #print(\"DEBUT: \",texts.text)\n",
        "              commentaire_avant_match = True\n",
        "          if commentaire_avant_match == True :\n",
        "            worksheet_avant_match.write(row_commentaire_avant_match, col, texts.text)\n",
        "            #print(texts.text)\n",
        "            row_commentaire_avant_match += 1\n",
        "          else :\n",
        "            worksheet.write(row, col, texts.text)\n",
        "            #print(texts.text)\n",
        "            row +=1\n",
        "        compteur +=1\n",
        "                             \n",
        "      workbook.close()\n",
        "      workbook_important.close()\n",
        "      workbook_resume.close()\n",
        "      workbook_avant_match.close()\n",
        "      #STATISTICS\n",
        "      row_stat = 0\n",
        "      column_stat = 0\n",
        "\n",
        "      browser.get(i+\"#stats\")\n",
        "      elem = browser.find_element_by_tag_name(\"body\")\n",
        "\n",
        "      no_of_pagedowns = 3\n",
        "      while no_of_pagedowns:\n",
        "          elem.send_keys(Keys.PAGE_DOWN)\n",
        "          time.sleep(0.3)\n",
        "          no_of_pagedowns-=1\n",
        "\n",
        "\n",
        "      ti=browser.find_elements_by_class_name(\"ChartHalfdonut__wrapper\")\n",
        "      for texts in ti:\n",
        "        temp=texts.text.split(\"\\n\")\n",
        "        worksheet_stats.write(row_stat, column_stat, temp[0])\n",
        "        column_stat+=1\n",
        "        worksheet_stats.write(row_stat, column_stat, temp[1])\n",
        "        column_stat+=1\n",
        "        worksheet_stats.write(row_stat, column_stat, temp[2])\n",
        "        column_stat=0\n",
        "        row_stat+=1\n",
        "      workbook_stats.close()\n",
        "\n",
        "      files.download(\"Stats\"+'-'+str(idx_match)+'-'+str(index_match_equipe_saison)+\".xlsx\")\n",
        "      files.download(\"Scorer\"+'-'+str(idx_match)+'-'+str(index_match_equipe_saison)+\".xlsx\")\n",
        "      files.download(\"CommentaireMatch\"+'-'+str(idx_match)+'-'+str(index_match_equipe_saison)+\".xlsx\")\n",
        "      files.download(\"important\"+'-'+str(idx_match)+'-'+str(index_match_equipe_saison)+\".xlsx\")\n",
        "      files.download(\"avant_match\"+'-'+str(idx_match)+'-'+str(index_match_equipe_saison)+\".xlsx\")\n",
        "      files.download(\"phrase_but\"+'-'+str(idx_match)+'-'+str(index_match_equipe_saison)+\".xlsx\")\n",
        "      files.download(\"resume\"+'-'+str(idx_match)+'-'+str(index_match_equipe_saison)+\".xlsx\")\n",
        "\n",
        "    '''"
      ],
      "execution_count": 6,
      "outputs": [
        {
          "output_type": "execute_result",
          "data": {
            "text/plain": [
              "'def create_dataset_Commentaire_Sans_Resume(url,num_match,year):\\n\\n  ### WEBDRIVER OPTIONS ###\\n  options = webdriver.ChromeOptions()\\n  options.add_argument(\\'--headless\\')\\n  options.add_argument(\\'--no-sandbox\\')\\n  options.add_argument(\\'--disable-dev-shm-usage\\')\\n  options.add_argument(\\'--ignore-certificate-errors\\')\\n  options.add_argument(\"--test-type\")\\n  options.add_argument(\\'--disable-browser-side-navigation\\')\\n  browser = webdriver.Chrome(\\'chromedriver\\',options=options)\\n  \\n\\n  for i, idx_match in zip(url, range(len(url))) :\\n\\n      row_important = 0\\n      row = 0\\n      col = 0\\n      commentaire_avant_match = False\\n      row_commentaire_avant_match = 0\\n      index_match_equipe_saison = \\'-\\'.join(i.split(\\'/\\')[6:])\\n\\n      ### EXCEL FILES CREATION ###\\n      workbook = xlsxwriter.Workbook(\"CommentaireMatch\"+\\'-\\'+str(idx_match)+\\'-\\'+str(index_match_equipe_saison)+\".xlsx\")\\n      workbook_stats = xlsxwriter.Workbook(\"Stats\"+\\'-\\'+str(idx_match)+\\'-\\'+str(index_match_equipe_saison)+\".xlsx\")\\n      workbook_scorer = xlsxwriter.Workbook(\"Scorer\"+\\'-\\'+str(idx_match)+\\'-\\'+str(index_match_equipe_saison)+\".xlsx\")\\n      workbook_important = xlsxwriter.Workbook(\"important\"+\\'-\\'+str(idx_match)+\\'-\\'+str(index_match_equipe_saison)+\".xlsx\")\\n      workbook_avant_match = xlsxwriter.Workbook(\"avant_match\"+\\'-\\'+str(idx_match)+\\'-\\'+str(index_match_equipe_saison)+\".xlsx\")\\n      workbook_resume = xlsxwriter.Workbook(\"resume\"+\\'-\\'+str(idx_match)+\\'-\\'+str(index_match_equipe_saison)+\".xlsx\")\\n      workbook_phrase_but = xlsxwriter.Workbook(\"phrase_but\"+\\'-\\'+str(idx_match)+\\'-\\'+str(index_match_equipe_saison)+\".xlsx\")\\n\\n      print(\"Stats\"+\\'-\\'+str(idx_match)+\\'-\\'+str(index_match_equipe_saison)+\".xlsx\")\\n\\n      worksheet = workbook.add_worksheet()\\n      worksheet_stats = workbook_stats.add_worksheet()\\n      worksheet_scorer = workbook_scorer.add_worksheet()\\n      worksheet_important = workbook_important.add_worksheet()\\n      worksheet_avant_match = workbook_avant_match.add_worksheet()\\n      worksheet_resume = workbook_resume.add_worksheet()\\n      worksheet_phrase_but = workbook_phrase_but.add_worksheet()\\n\\n      browser.get(i)\\n      time.sleep(1)\\n      compteur = 1\\n\\n      ### REGULAR EXPRESSIONS ###\\n      a = 0\\n      apo=\\'\\'\\'\\n      empty=\\'\\'\\n      plus = \"+\"\\n      ex = \"*\"\\n      note=r\\'[0-9]+\\\\/.[0-9]+\\'\\n      twitter=r\\'.*(PM).*(Twitter)?.*\\'\\n      compt = 0\\n      regex_time=r\\'[0-9]+\\'\\\\s?\\\\+?[0-9]*\\'\\n      regex_if=r\\'\\\\w\\'\\n      data={}\\n      data[\"moments\"]=[]\\n      reg=r\\'.*But+.*\\'\\n      mid=r\\'45+?.*\\'\\n      regex_score_equipe1=r\\'([A-Z]+.*[0-9]’)\\'\\n      regex_score_equipe2=r\\'([0-9]+’.*[A-Z]+.*)\\'\\n      ### WEB PAGE NAVIGATION ###\\n      elem = browser.find_element_by_tag_name(\"body\")\\n      no_of_pagedowns = 35\\n      while no_of_pagedowns:\\n          elem.send_keys(Keys.PAGE_DOWN)\\n          time.sleep(0.3)\\n          no_of_pagedowns-=1\\n\\n      ### DATA LIST CREATION ###\\n      info = []\\n      info_stat = []\\n      info_score = []\\n\\n      \\n\\n      telem = browser.find_elements_by_class_name(\"TeamScore__identity\")\\n      #equipe_dom= \"\"\\n      #equipe_ext= \"\"\\n      if len(telem)>0:\\n        equipe_dom = telem[0].text\\n        equipe_ext = telem[1].text\\n        if equipe_dom == \"PSG\":\\n          equipe_dom= \"Paris\"\\n        if equipe_ext == \"PSG\":\\n          equipe_ext= \"Paris\"\\n      else :\\n        equipe_dom, equipe_ext = ren_equipe(i)\\n      #SCORERS\\n      row_score1 = 0\\n      row_score2 = 0\\n      test= browser.find_elements_by_class_name(\"Scoreboard__goals\")\\n      for texts in test:\\n        if(re.match(regex_score_equipe1,texts.text)):\\n          worksheet_scorer.write(row_score1, 0, texts.text)\\n          spli = texts.text.split(\" \")\\n          if len(spli)==3:\\n            sentence = spli[0] + \" \" + spli[1] + \" a marqué un but pour \" + equipe_dom + \" à la \" + spli[2] + \".\"\\n          if len(spli)==2:\\n            sentence = spli[0] +  \" a marqué un but pour \" + equipe_dom + \" à la \" + spli[1] + \".\"\\n          worksheet_phrase_but.write(row_score1, 0, sentence)\\n          row_score1+=1\\n        if(re.match(regex_score_equipe2,texts.text)):\\n          worksheet_scorer.write(row_score2, 1, texts.text)\\n          spli = texts.text.split(\" \")\\n          if len(spli)==3:\\n            sentence = spli[1] + \" \" + spli[2] + \" a marqué un but pour \" + equipe_ext + \" à la \" + spli[0] + \".\"\\n          if len(spli)==2:\\n            sentence = spli[1] +  \" a marqué un but pour \" + equipe_ext + \" à la \" + spli[0] + \".\"\\n          worksheet_phrase_but.write(row_score2, 1, sentence)\\n          row_score2+=1\\n      workbook_scorer.close()\\n      workbook_phrase_but.close()\\n\\n      #GAME SCORE\\n      post_elems = browser.find_elements_by_class_name(\"TeamScore__team--winner\") # TeamScore__score # TeamScore__team--looser # TeamScore__team--winner\\n      for texts in post_elems:\\n        info.append(texts.text)\\n      post_elems = browser.find_elements_by_class_name(\"TeamScore__team--looser\") # TeamScore__score # TeamScore__team--looser # TeamScore__team--winner\\n      for texts in post_elems:\\n        info.append(texts.text) \\n      if info != []:\\n        if info[0].isdigit():\\n          phrase = info[1] +\" gagne le match contre \" + info[2] + \" sur un score de \" + info[0]+\"-\"+info[3] + \".\"\\n        else :\\n          phrase = info[0] +\" gagne le match contre \" + info[3] + \" sur un score de \" + info[1]+\"-\"+info[2] + \".\"\\n      else :\\n        post_elems = browser.find_elements_by_class_name(\"TeamScore__name\") \\n        for texts in post_elems:\\n          info.append(texts.text)\\n        post_elems = browser.find_elements_by_class_name(\"TeamScore__score--ended\") \\n        for texts in post_elems:\\n          info.append(texts.text)\\n        phrase = info[0] +\" fait match nul contre \" + info[1] + \" sur un score de \" + info[2] + \".\"\\n      worksheet.write(row, col, phrase)\\n      row +=1\\n\\n      #SENTENCES\\n      post_elems = browser.find_elements_by_class_name(\"grid__item\")\\n      for texts in post_elems:\\n        if compteur >=0:\\n          if texts.text == \"\" or re.search(r\\'.*Notez.*\\',texts.text) or re.search(r\\'Top du match.*\\',texts.text) or re.search(r\\'Flop du match.*\\',texts.text) or re.search(r\\'.*note.*\\',texts.text) or re.search(r\\'.*[?].*\\',texts.text) or re.search(r\\'.*Twitter.*\\',texts.text): \\n            a = a +1\\n          el= texts.find_elements_by_tag_name(\"img\") \\n          for em in el:\\n            if em.get_attribute(\\'src\\')==\"https://www.lequipe.fr/img/icons/live/but.svg\"  or em.get_attribute(\\'src\\')==\"https://www.lequipe.fr/img/icons/live/carton_rouge.svg\" or em.get_attribute(\\'src\\')==\"https://www.lequipe.fr/img/icons/live/but_contre_son_camp.svg\":\\n              worksheet_important.write(row_important, col, texts.text)\\n              #print(\"IMPORTANT: \",texts.text)\\n              row_important +=1\\n            if em.get_attribute(\\'src\\')==\"https://www.lequipe.fr/img/icons/live/sifflet_fin_2mt.svg\":\\n              worksheet_resume.write(0, 0, texts.text.split(\"\\n\")[2])\\n            if em.get_attribute(\\'src\\')==\"https://www.lequipe.fr/img/icons/live/sifflet_debut_1mt.svg\":\\n              #print(\"DEBUT: \",texts.text)\\n              commentaire_avant_match = True\\n          if commentaire_avant_match == True :\\n            worksheet_avant_match.write(row_commentaire_avant_match, col, texts.text)\\n            #print(texts.text)\\n            row_commentaire_avant_match += 1\\n          else :\\n            worksheet.write(row, col, texts.text)\\n            #print(texts.text)\\n            row +=1\\n        compteur +=1\\n                             \\n      workbook.close()\\n      workbook_important.close()\\n      workbook_resume.close()\\n      workbook_avant_match.close()\\n      #STATISTICS\\n      row_stat = 0\\n      column_stat = 0\\n\\n      browser.get(i+\"#stats\")\\n      elem = browser.find_element_by_tag_name(\"body\")\\n\\n      no_of_pagedowns = 3\\n      while no_of_pagedowns:\\n          elem.send_keys(Keys.PAGE_DOWN)\\n          time.sleep(0.3)\\n          no_of_pagedowns-=1\\n\\n\\n      ti=browser.find_elements_by_class_name(\"ChartHalfdonut__wrapper\")\\n      for texts in ti:\\n        temp=texts.text.split(\"\\n\")\\n        worksheet_stats.write(row_stat, column_stat, temp[0])\\n        column_stat+=1\\n        worksheet_stats.write(row_stat, column_stat, temp[1])\\n        column_stat+=1\\n        worksheet_stats.write(row_stat, column_stat, temp[2])\\n        column_stat=0\\n        row_stat+=1\\n      workbook_stats.close()\\n\\n      files.download(\"Stats\"+\\'-\\'+str(idx_match)+\\'-\\'+str(index_match_equipe_saison)+\".xlsx\")\\n      files.download(\"Scorer\"+\\'-\\'+str(idx_match)+\\'-\\'+str(index_match_equipe_saison)+\".xlsx\")\\n      files.download(\"CommentaireMatch\"+\\'-\\'+str(idx_match)+\\'-\\'+str(index_match_equipe_saison)+\".xlsx\")\\n      files.download(\"important\"+\\'-\\'+str(idx_match)+\\'-\\'+str(index_match_equipe_saison)+\".xlsx\")\\n      files.download(\"avant_match\"+\\'-\\'+str(idx_match)+\\'-\\'+str(index_match_equipe_saison)+\".xlsx\")\\n      files.download(\"phrase_but\"+\\'-\\'+str(idx_match)+\\'-\\'+str(index_match_equipe_saison)+\".xlsx\")\\n      files.download(\"resume\"+\\'-\\'+str(idx_match)+\\'-\\'+str(index_match_equipe_saison)+\".xlsx\")\\n\\n    '"
            ]
          },
          "metadata": {
            "tags": []
          },
          "execution_count": 6
        }
      ]
    },
    {
      "cell_type": "code",
      "metadata": {
        "id": "eyXt2dvHEuyp",
        "colab_type": "code",
        "outputId": "72ff55df-c77f-46aa-b022-6241bcd5ee4a",
        "colab": {
          "base_uri": "https://localhost:8080/",
          "height": 196
        }
      },
      "source": [
        "!pip install nested-lookup\n",
        "from nested_lookup import nested_lookup"
      ],
      "execution_count": 7,
      "outputs": [
        {
          "output_type": "stream",
          "text": [
            "Collecting nested-lookup\n",
            "  Downloading https://files.pythonhosted.org/packages/f1/79/dc192693dca32432ce3d7adedf449da5b145c6380188254da484ab3cb779/nested-lookup-0.2.21.tar.gz\n",
            "Requirement already satisfied: six in /usr/local/lib/python3.6/dist-packages (from nested-lookup) (1.12.0)\n",
            "Building wheels for collected packages: nested-lookup\n",
            "  Building wheel for nested-lookup (setup.py) ... \u001b[?25l\u001b[?25hdone\n",
            "  Created wheel for nested-lookup: filename=nested_lookup-0.2.21-cp36-none-any.whl size=7577 sha256=a393932364cc618fc1330a5ad0d996a50bca1f32ee8c818df0eb0bb7d6ea28df\n",
            "  Stored in directory: /root/.cache/pip/wheels/cd/b4/f1/764f97bfa4c8a26e44eb2dc988e0ac8e918e54d9858ae6a349\n",
            "Successfully built nested-lookup\n",
            "Installing collected packages: nested-lookup\n",
            "Successfully installed nested-lookup-0.2.21\n"
          ],
          "name": "stdout"
        }
      ]
    },
    {
      "cell_type": "code",
      "metadata": {
        "id": "gF0czBb4EvWZ",
        "colab_type": "code",
        "colab": {}
      },
      "source": [
        "import string\n",
        "import json"
      ],
      "execution_count": 0,
      "outputs": []
    },
    {
      "cell_type": "code",
      "metadata": {
        "id": "ioWLwR2gExgv",
        "colab_type": "code",
        "colab": {}
      },
      "source": [
        "def Get_Day(url):\n",
        "  match_url = []\n",
        "  resp = requests.get(url)\n",
        "  soup = BeautifulSoup(resp.text, 'lxml')\n",
        "  start = r'value=\"'  #a data-v-74b9a49b href=\"\n",
        "  end = r'\">\\n'\n",
        "  #i=0\n",
        "  for link in soup.find('select', {'class': 'SelectNav__select'}):\n",
        "    #print(link)#data-v-74b9a49b\n",
        "    #i+=1\n",
        "    #print(i)\n",
        "    try :\n",
        "      result = re.sub(r'.+value=\"','',str(link))\n",
        "      result2 = re.sub(r'\">(.*)\\n*(.*)\\n*(.*)','',str(result))\n",
        "      #print(result2)\n",
        "      match_url.append(result2)\n",
        "    except:\n",
        "      pass\n",
        "  return match_url"
      ],
      "execution_count": 0,
      "outputs": []
    },
    {
      "cell_type": "code",
      "metadata": {
        "id": "WNqTfPN_vdZ9",
        "colab_type": "code",
        "colab": {}
      },
      "source": [
        "def Get_Match(list_day):\n",
        "  match_url = []\n",
        "  for link in list_day:  \n",
        "    #print(link)\n",
        "    resp = requests.get(link)\n",
        "    soup = BeautifulSoup(resp.text, 'lxml')\n",
        "    #print(soup)\n",
        "    res=re.sub(r'<html><body><p>','',str(soup))\n",
        "    res2= re.sub(r'</p></body></html>','',res)\n",
        "    jsonfile=json.loads(res2)\n",
        "    try :\n",
        "      b=nested_lookup(\"lien_web\", jsonfile)\n",
        "      for lien in b:\n",
        "        a=lien.replace(\"webview\",\"www\")\n",
        "      #print(result2)\n",
        "        match_url.append(a)\n",
        "    except:\n",
        "      pass\n",
        "  return match_url"
      ],
      "execution_count": 0,
      "outputs": []
    },
    {
      "cell_type": "code",
      "metadata": {
        "id": "Xv9Zau9PvkTf",
        "colab_type": "code",
        "colab": {}
      },
      "source": [
        "def Get_all_txt(days_url,year):\n",
        "  compt=0\n",
        "  try:\n",
        "    create_dataset_Commentaire_Sans_Resume(Get_Match(days_url), compt,year)     \n",
        "  except:\n",
        "    create_dataset_Commentaire_Sans_Resume(Get_Match(days_url), compt,year) \n"
      ],
      "execution_count": 0,
      "outputs": []
    },
    {
      "cell_type": "code",
      "metadata": {
        "id": "c4rK0wxkHBLE",
        "colab_type": "code",
        "colab": {}
      },
      "source": [
        "def Get_all_txt(days_url,year):\n",
        "  compt=0\n",
        "  create_dataset_Commentaire_Sans_Resume(Get_Match(days_url), compt,year)     "
      ],
      "execution_count": 0,
      "outputs": []
    },
    {
      "cell_type": "code",
      "metadata": {
        "id": "wtgtQXPdFe4C",
        "colab_type": "code",
        "outputId": "1705b73f-dba2-4f05-9d6f-26819098d6fd",
        "colab": {
          "base_uri": "https://localhost:8080/",
          "height": 1000
        }
      },
      "source": [
        "Get_all_txt(Get_Day(\"https://www.lequipe.fr/Football/2018-2019/ligue-1-resultats.html#1ere-journee\"),2019)"
      ],
      "execution_count": 13,
      "outputs": [
        {
          "output_type": "stream",
          "text": [
            "  0%|          | 1/380 [00:15<1:39:29, 15.75s/it]"
          ],
          "name": "stderr"
        },
        {
          "output_type": "stream",
          "text": [
            "0\n"
          ],
          "name": "stdout"
        },
        {
          "output_type": "stream",
          "text": [
            "\r  1%|          | 2/380 [00:28<1:33:39, 14.87s/it]"
          ],
          "name": "stderr"
        },
        {
          "output_type": "stream",
          "text": [
            "1\n"
          ],
          "name": "stdout"
        },
        {
          "output_type": "stream",
          "text": [
            "\r  1%|          | 3/380 [00:40<1:28:16, 14.05s/it]"
          ],
          "name": "stderr"
        },
        {
          "output_type": "stream",
          "text": [
            "2\n"
          ],
          "name": "stdout"
        },
        {
          "output_type": "stream",
          "text": [
            "\r  1%|          | 4/380 [01:02<1:42:58, 16.43s/it]"
          ],
          "name": "stderr"
        },
        {
          "output_type": "stream",
          "text": [
            "3\n",
            "IMPORTANT:  \n"
          ],
          "name": "stdout"
        },
        {
          "output_type": "stream",
          "text": [
            "\r  1%|▏         | 5/380 [01:22<1:49:22, 17.50s/it]"
          ],
          "name": "stderr"
        },
        {
          "output_type": "stream",
          "text": [
            "4\n"
          ],
          "name": "stdout"
        },
        {
          "output_type": "stream",
          "text": [
            "\r  2%|▏         | 6/380 [01:43<1:54:24, 18.35s/it]"
          ],
          "name": "stderr"
        },
        {
          "output_type": "stream",
          "text": [
            "5\n"
          ],
          "name": "stdout"
        },
        {
          "output_type": "stream",
          "text": [
            "\r  2%|▏         | 7/380 [01:54<1:41:56, 16.40s/it]"
          ],
          "name": "stderr"
        },
        {
          "output_type": "stream",
          "text": [
            "6\n"
          ],
          "name": "stdout"
        },
        {
          "output_type": "stream",
          "text": [
            "\r  2%|▏         | 8/380 [02:06<1:32:53, 14.98s/it]"
          ],
          "name": "stderr"
        },
        {
          "output_type": "stream",
          "text": [
            "7\n"
          ],
          "name": "stdout"
        },
        {
          "output_type": "stream",
          "text": [
            "\r  2%|▏         | 9/380 [02:18<1:27:37, 14.17s/it]"
          ],
          "name": "stderr"
        },
        {
          "output_type": "stream",
          "text": [
            "8\n"
          ],
          "name": "stdout"
        },
        {
          "output_type": "stream",
          "text": [
            "\r  3%|▎         | 10/380 [02:30<1:23:11, 13.49s/it]"
          ],
          "name": "stderr"
        },
        {
          "output_type": "stream",
          "text": [
            "9\n"
          ],
          "name": "stdout"
        },
        {
          "output_type": "stream",
          "text": [
            "\r  3%|▎         | 11/380 [02:42<1:19:55, 13.00s/it]"
          ],
          "name": "stderr"
        },
        {
          "output_type": "stream",
          "text": [
            "10\n"
          ],
          "name": "stdout"
        },
        {
          "output_type": "stream",
          "text": [
            "\r  3%|▎         | 12/380 [02:54<1:18:01, 12.72s/it]"
          ],
          "name": "stderr"
        },
        {
          "output_type": "stream",
          "text": [
            "11\n"
          ],
          "name": "stdout"
        },
        {
          "output_type": "stream",
          "text": [
            "\r  3%|▎         | 13/380 [03:07<1:17:10, 12.62s/it]"
          ],
          "name": "stderr"
        },
        {
          "output_type": "stream",
          "text": [
            "12\n"
          ],
          "name": "stdout"
        },
        {
          "output_type": "stream",
          "text": [
            "\r  4%|▎         | 14/380 [03:19<1:16:28, 12.54s/it]"
          ],
          "name": "stderr"
        },
        {
          "output_type": "stream",
          "text": [
            "13\n"
          ],
          "name": "stdout"
        },
        {
          "output_type": "stream",
          "text": [
            "\r  4%|▍         | 15/380 [03:39<1:30:36, 14.90s/it]"
          ],
          "name": "stderr"
        },
        {
          "output_type": "stream",
          "text": [
            "14\n"
          ],
          "name": "stdout"
        },
        {
          "output_type": "stream",
          "text": [
            "\r  4%|▍         | 16/380 [03:51<1:25:27, 14.09s/it]"
          ],
          "name": "stderr"
        },
        {
          "output_type": "stream",
          "text": [
            "15\n"
          ],
          "name": "stdout"
        },
        {
          "output_type": "stream",
          "text": [
            "\r  4%|▍         | 17/380 [04:04<1:21:46, 13.52s/it]"
          ],
          "name": "stderr"
        },
        {
          "output_type": "stream",
          "text": [
            "16\n"
          ],
          "name": "stdout"
        },
        {
          "output_type": "stream",
          "text": [
            "\r  5%|▍         | 18/380 [04:24<1:33:27, 15.49s/it]"
          ],
          "name": "stderr"
        },
        {
          "output_type": "stream",
          "text": [
            "17\n",
            "IMPORTANT:  90'\n",
            "Hunou fait le break !\n",
            "En contre-attaque, Léa-Siliki trouve Hunou sur le côté gauche d'une magnifique ouverture. Le milieu remonte le terrain, repique dans l'axe et efface d'un crochet Koné qui tombe au sol avant de conclure parfaitement d'un tir décroisé sur la droite de Sels.\n",
            "A. Hunou\n"
          ],
          "name": "stdout"
        },
        {
          "output_type": "stream",
          "text": [
            "\r  5%|▌         | 19/380 [04:44<1:41:28, 16.87s/it]"
          ],
          "name": "stderr"
        },
        {
          "output_type": "stream",
          "text": [
            "18\n"
          ],
          "name": "stdout"
        },
        {
          "output_type": "stream",
          "text": [
            "\r  5%|▌         | 20/380 [05:04<1:47:00, 17.83s/it]"
          ],
          "name": "stderr"
        },
        {
          "output_type": "stream",
          "text": [
            "19\n"
          ],
          "name": "stdout"
        },
        {
          "output_type": "stream",
          "text": [
            "\r  6%|▌         | 21/380 [05:17<1:38:07, 16.40s/it]"
          ],
          "name": "stderr"
        },
        {
          "output_type": "stream",
          "text": [
            "20\n"
          ],
          "name": "stdout"
        },
        {
          "output_type": "stream",
          "text": [
            "\r  6%|▌         | 22/380 [05:29<1:30:12, 15.12s/it]"
          ],
          "name": "stderr"
        },
        {
          "output_type": "stream",
          "text": [
            "21\n"
          ],
          "name": "stdout"
        },
        {
          "output_type": "stream",
          "text": [
            "\r  6%|▌         | 23/380 [05:49<1:38:43, 16.59s/it]"
          ],
          "name": "stderr"
        },
        {
          "output_type": "stream",
          "text": [
            "22\n"
          ],
          "name": "stdout"
        },
        {
          "output_type": "stream",
          "text": [
            "\r  6%|▋         | 24/380 [06:10<1:45:21, 17.76s/it]"
          ],
          "name": "stderr"
        },
        {
          "output_type": "stream",
          "text": [
            "23\n"
          ],
          "name": "stdout"
        },
        {
          "output_type": "stream",
          "text": [
            "\r  7%|▋         | 25/380 [06:23<1:38:11, 16.59s/it]"
          ],
          "name": "stderr"
        },
        {
          "output_type": "stream",
          "text": [
            "24\n",
            "IMPORTANT:  90'+4\n",
            "But de Kwon !\n",
            "Dijon est allé la chercher au bout du temps additionnel ! Sur un dernier long ballon, le Sud-Coréen est trouvé à l'entrée de la surface et peut frapper en première intention. Sa frappe est légèrement déviée et ça suffit pour tromper Sels.\n",
            "Kwon\n",
            "milieu\n"
          ],
          "name": "stdout"
        },
        {
          "output_type": "stream",
          "text": [
            "\r  7%|▋         | 26/380 [06:43<1:43:13, 17.50s/it]"
          ],
          "name": "stderr"
        },
        {
          "output_type": "stream",
          "text": [
            "25\n"
          ],
          "name": "stdout"
        },
        {
          "output_type": "stream",
          "text": [
            "\r  7%|▋         | 27/380 [06:56<1:34:03, 15.99s/it]"
          ],
          "name": "stderr"
        },
        {
          "output_type": "stream",
          "text": [
            "26\n"
          ],
          "name": "stdout"
        },
        {
          "output_type": "stream",
          "text": [
            "\r  7%|▋         | 28/380 [07:08<1:26:54, 14.81s/it]"
          ],
          "name": "stderr"
        },
        {
          "output_type": "stream",
          "text": [
            "27\n",
            "IMPORTANT:  \n"
          ],
          "name": "stdout"
        },
        {
          "output_type": "stream",
          "text": [
            "\r  8%|▊         | 29/380 [07:28<1:37:01, 16.59s/it]"
          ],
          "name": "stderr"
        },
        {
          "output_type": "stream",
          "text": [
            "28\n",
            "IMPORTANT:  \n",
            "IMPORTANT:  \n"
          ],
          "name": "stdout"
        },
        {
          "output_type": "stream",
          "text": [
            "\r  8%|▊         | 30/380 [07:49<1:43:23, 17.72s/it]"
          ],
          "name": "stderr"
        },
        {
          "output_type": "stream",
          "text": [
            "29\n"
          ],
          "name": "stdout"
        },
        {
          "output_type": "stream",
          "text": [
            "\r  8%|▊         | 31/380 [08:09<1:46:47, 18.36s/it]"
          ],
          "name": "stderr"
        },
        {
          "output_type": "stream",
          "text": [
            "30\n"
          ],
          "name": "stdout"
        },
        {
          "output_type": "stream",
          "text": [
            "\r  8%|▊         | 32/380 [08:29<1:49:38, 18.90s/it]"
          ],
          "name": "stderr"
        },
        {
          "output_type": "stream",
          "text": [
            "31\n"
          ],
          "name": "stdout"
        },
        {
          "output_type": "stream",
          "text": [
            "\r  9%|▊         | 33/380 [08:51<1:54:34, 19.81s/it]"
          ],
          "name": "stderr"
        },
        {
          "output_type": "stream",
          "text": [
            "32\n"
          ],
          "name": "stdout"
        },
        {
          "output_type": "stream",
          "text": [
            "\r  9%|▉         | 34/380 [09:03<1:42:02, 17.69s/it]"
          ],
          "name": "stderr"
        },
        {
          "output_type": "stream",
          "text": [
            "33\n"
          ],
          "name": "stdout"
        },
        {
          "output_type": "stream",
          "text": [
            "\r  9%|▉         | 35/380 [09:23<1:45:26, 18.34s/it]"
          ],
          "name": "stderr"
        },
        {
          "output_type": "stream",
          "text": [
            "34\n"
          ],
          "name": "stdout"
        },
        {
          "output_type": "stream",
          "text": [
            "\r  9%|▉         | 36/380 [09:44<1:48:45, 18.97s/it]"
          ],
          "name": "stderr"
        },
        {
          "output_type": "stream",
          "text": [
            "35\n"
          ],
          "name": "stdout"
        },
        {
          "output_type": "stream",
          "text": [
            "\r 10%|▉         | 37/380 [10:04<1:49:54, 19.22s/it]"
          ],
          "name": "stderr"
        },
        {
          "output_type": "stream",
          "text": [
            "36\n"
          ],
          "name": "stdout"
        },
        {
          "output_type": "stream",
          "text": [
            "\r 10%|█         | 38/380 [10:24<1:51:22, 19.54s/it]"
          ],
          "name": "stderr"
        },
        {
          "output_type": "stream",
          "text": [
            "37\n",
            "IMPORTANT:  \n"
          ],
          "name": "stdout"
        },
        {
          "output_type": "stream",
          "text": [
            "\r 10%|█         | 39/380 [10:44<1:52:30, 19.79s/it]"
          ],
          "name": "stderr"
        },
        {
          "output_type": "stream",
          "text": [
            "38\n"
          ],
          "name": "stdout"
        },
        {
          "output_type": "stream",
          "text": [
            "\r 11%|█         | 40/380 [11:04<1:52:59, 19.94s/it]"
          ],
          "name": "stderr"
        },
        {
          "output_type": "stream",
          "text": [
            "39\n"
          ],
          "name": "stdout"
        },
        {
          "output_type": "stream",
          "text": [
            "\r 11%|█         | 41/380 [11:25<1:53:24, 20.07s/it]"
          ],
          "name": "stderr"
        },
        {
          "output_type": "stream",
          "text": [
            "40\n"
          ],
          "name": "stdout"
        },
        {
          "output_type": "stream",
          "text": [
            "\r 11%|█         | 42/380 [11:38<1:41:18, 17.99s/it]"
          ],
          "name": "stderr"
        },
        {
          "output_type": "stream",
          "text": [
            "41\n"
          ],
          "name": "stdout"
        },
        {
          "output_type": "stream",
          "text": [
            "\r 11%|█▏        | 43/380 [11:58<1:44:42, 18.64s/it]"
          ],
          "name": "stderr"
        },
        {
          "output_type": "stream",
          "text": [
            "42\n"
          ],
          "name": "stdout"
        },
        {
          "output_type": "stream",
          "text": [
            "\r 12%|█▏        | 44/380 [12:18<1:46:10, 18.96s/it]"
          ],
          "name": "stderr"
        },
        {
          "output_type": "stream",
          "text": [
            "43\n"
          ],
          "name": "stdout"
        },
        {
          "output_type": "stream",
          "text": [
            " 19%|█▉        | 74/380 [12:27<56:47, 11.14s/it]  "
          ],
          "name": "stderr"
        },
        {
          "output_type": "stream",
          "text": [
            "44\n",
            "45\n",
            "46\n",
            "47\n",
            "48\n",
            "49\n",
            "50\n",
            "51\n",
            "52\n",
            "53\n",
            "54\n",
            "55\n",
            "56\n",
            "57\n",
            "58\n",
            "59\n",
            "60\n",
            "61\n",
            "62\n",
            "63\n",
            "64\n",
            "65\n",
            "66\n",
            "67\n",
            "68\n",
            "69\n",
            "70\n",
            "71\n",
            "72\n",
            "73\n",
            "74\n",
            "75\n",
            "76\n",
            "77\n",
            "78\n",
            "79\n",
            "80\n",
            "81\n",
            "82\n",
            "83\n",
            "84\n",
            "85\n",
            "86\n",
            "87\n",
            "88\n",
            "89\n",
            "90\n",
            "91\n",
            "92\n",
            "93\n",
            "94\n",
            "95\n",
            "96\n",
            "97\n",
            "98\n",
            "99\n",
            "100\n",
            "101\n",
            "102\n",
            "103\n",
            "104\n",
            "105\n",
            "106\n",
            "107\n",
            "108\n",
            "109\n",
            "110\n",
            "111\n",
            "112\n",
            "113\n",
            "114\n",
            "115\n",
            "116\n",
            "117\n",
            "118\n",
            "119\n",
            "120\n",
            "121\n",
            "122\n",
            "123\n",
            "124\n",
            "125\n",
            "126\n",
            "127\n",
            "128\n",
            "129\n",
            "130\n"
          ],
          "name": "stdout"
        },
        {
          "output_type": "stream",
          "text": [
            " 50%|█████     | 190/380 [12:27<17:16,  5.46s/it]"
          ],
          "name": "stderr"
        },
        {
          "output_type": "stream",
          "text": [
            "131\n",
            "132\n",
            "133\n",
            "134\n",
            "135\n",
            "136\n",
            "137\n",
            "138\n",
            "139\n",
            "140\n",
            "141\n",
            "142\n",
            "143\n",
            "144\n",
            "145\n",
            "146\n",
            "147\n",
            "148\n",
            "149\n",
            "150\n",
            "151\n",
            "152\n",
            "153\n",
            "154\n",
            "155\n",
            "156\n",
            "157\n",
            "158\n",
            "159\n",
            "160\n",
            "161\n",
            "162\n",
            "163\n",
            "164\n",
            "165\n",
            "166\n",
            "167\n",
            "168\n",
            "169\n",
            "170\n",
            "171\n",
            "172\n",
            "173\n",
            "174\n",
            "175\n",
            "176\n",
            "177\n",
            "178\n",
            "179\n",
            "180\n",
            "181\n",
            "182\n",
            "183\n",
            "184\n",
            "185\n",
            "186\n",
            "187\n",
            "188\n",
            "189\n",
            "190\n",
            "191\n",
            "192\n",
            "193\n",
            "194\n",
            "195\n",
            "196\n",
            "197\n",
            "198\n",
            "199\n",
            "200\n",
            "201\n",
            "202\n",
            "203\n",
            "204\n",
            "205\n",
            "206\n",
            "207\n",
            "208\n",
            "209\n",
            "210\n"
          ],
          "name": "stdout"
        },
        {
          "output_type": "stream",
          "text": [
            " 82%|████████▏ | 310/380 [12:27<03:07,  2.68s/it]"
          ],
          "name": "stderr"
        },
        {
          "output_type": "stream",
          "text": [
            "211\n",
            "212\n",
            "213\n",
            "214\n",
            "215\n",
            "216\n",
            "217\n",
            "218\n",
            "219\n",
            "220\n",
            "221\n",
            "222\n",
            "223\n",
            "224\n",
            "225\n",
            "226\n",
            "227\n",
            "228\n",
            "229\n",
            "230\n",
            "231\n",
            "232\n",
            "233\n",
            "234\n",
            "235\n",
            "236\n",
            "237\n",
            "238\n",
            "239\n",
            "240\n",
            "241\n",
            "242\n",
            "243\n",
            "244\n",
            "245\n",
            "246\n",
            "247\n",
            "248\n",
            "249\n",
            "250\n",
            "251\n",
            "252\n",
            "253\n",
            "254\n",
            "255\n",
            "256\n",
            "257\n",
            "258\n",
            "259\n",
            "260\n",
            "261\n",
            "262\n",
            "263\n",
            "264\n",
            "265\n",
            "266\n",
            "267\n",
            "268\n",
            "269\n",
            "270\n",
            "271\n",
            "272\n",
            "273\n",
            "274\n",
            "275\n",
            "276\n",
            "277\n",
            "278\n",
            "279\n",
            "280\n",
            "281\n",
            "282\n",
            "283\n",
            "284\n",
            "285\n",
            "286\n",
            "287\n",
            "288\n",
            "289\n",
            "290\n",
            "291\n",
            "292\n",
            "293\n",
            "294\n",
            "295\n",
            "296\n",
            "297\n",
            "298\n",
            "299\n",
            "300\n",
            "301\n",
            "302\n",
            "303\n",
            "304\n",
            "305\n",
            "306\n",
            "307\n",
            "308\n",
            "309\n",
            "310\n",
            "311\n",
            "312\n",
            "313\n",
            "314\n",
            "315\n",
            "316\n",
            "317\n",
            "318\n",
            "319\n",
            "320\n",
            "321\n",
            "322\n",
            "323\n",
            "324\n",
            "325\n",
            "326\n",
            "327\n",
            "328\n",
            "329\n",
            "330\n",
            "331\n",
            "332\n",
            "333\n"
          ],
          "name": "stdout"
        },
        {
          "output_type": "stream",
          "text": [
            "\r 97%|█████████▋| 369/380 [12:27<00:20,  1.87s/it]"
          ],
          "name": "stderr"
        },
        {
          "output_type": "stream",
          "text": [
            "334\n",
            "335\n",
            "336\n",
            "337\n",
            "338\n",
            "339\n",
            "340\n",
            "341\n",
            "342\n",
            "343\n",
            "344\n",
            "345\n",
            "346\n",
            "347\n",
            "348\n",
            "349\n",
            "350\n",
            "351\n",
            "352\n",
            "353\n",
            "354\n",
            "355\n",
            "356\n",
            "357\n",
            "358\n",
            "359\n",
            "360\n",
            "361\n",
            "362\n",
            "363\n",
            "364\n",
            "365\n",
            "366\n",
            "367\n",
            "368\n",
            "369\n",
            "370\n",
            "371\n",
            "372\n",
            "373\n",
            "374\n",
            "375\n",
            "376\n",
            "377\n",
            "378\n",
            "379\n"
          ],
          "name": "stdout"
        }
      ]
    },
    {
      "cell_type": "code",
      "metadata": {
        "id": "WY7KsD9u636p",
        "colab_type": "code",
        "outputId": "e28b2abf-69c2-4aee-a995-262b62eb6f68",
        "colab": {
          "base_uri": "https://localhost:8080/",
          "height": 34
        }
      },
      "source": [
        "Get_Match(Get_Day(\"https://www.lequipe.fr/Football/2018-2019/ligue-1-resultats.html#1ere-journee\"))[21]"
      ],
      "execution_count": 0,
      "outputs": [
        {
          "output_type": "execute_result",
          "data": {
            "text/plain": [
              "'https://www.lequipe.fr/Football/match-direct/ligue-1/2018-2019/angers-psg-live/428494'"
            ]
          },
          "metadata": {
            "tags": []
          },
          "execution_count": 14
        }
      ]
    },
    {
      "cell_type": "code",
      "metadata": {
        "id": "thGTU-2IWTb6",
        "colab_type": "code",
        "outputId": "30a50bf6-0b38-4d90-b7c4-40a4ee01f34a",
        "colab": {
          "base_uri": "https://localhost:8080/",
          "height": 448
        }
      },
      "source": [
        "wd = webdriver.Chrome('chromedriver',options=options)\n",
        "wd.get(\"https://www.lequipe.fr/Football/match-direct/ligue-1/2018-2019/reims-psg-live/428521\")\n",
        "#print(wd.page_source)\n",
        "\n",
        "elem = wd.find_element_by_tag_name(\"body\")\n",
        "no_of_pagedowns = 35\n",
        "while no_of_pagedowns:\n",
        "    elem.send_keys(Keys.PAGE_DOWN)\n",
        "    time.sleep(0.3)\n",
        "    no_of_pagedowns-=1\n",
        "\n",
        "\n",
        "\n",
        "\n",
        "telem = wd.find_elements_by_class_name(\"TeamScore__identity\")\n",
        "equipe_dom = telem[0].text\n",
        "equipe_ext = telem[1].text\n",
        "\n",
        "print(\"fight\",equipe_dom, equipe_ext)\n",
        "\n",
        "post_elems = wd.find_elements_by_class_name(\"grid__item\")\n",
        "for texts in post_elems:\n",
        "  el= texts.find_elements_by_tag_name(\"img\")\n",
        "  \n",
        "  for em in el:\n",
        "    if em.get_attribute('src')==\"https://www.lequipe.fr/img/icons/live/but.svg\" or em.get_attribute('src')==\"https://www.lequipe.fr/img/icons/live/sifflet_fin_2mt.svg\" or em.get_attribute('src')==\"https://www.lequipe.fr/img/icons/live/carton_rouge.svg\" or em.get_attribute('src')==\"https://www.lequipe.fr/img/icons/live/but_contre_son_camp.svg\":\n",
        "      print(texts.text)\n"
      ],
      "execution_count": 0,
      "outputs": [
        {
          "output_type": "stream",
          "text": [
            "fight Reims PSG\n",
            "90'+6\n",
            "Coup de sifflet final\n",
            "Pour sa dernière à domicile, Reims s'offre le PSG et arrache la 8e place, son meilleur classement final dans l'élite depuis la saison 1975/76. Baba, Cafaro et Chavarria ont été décisifs dans ce match de gala. Le PSG concède un 5e revers en L1. Mbappé termine meilleur buteur du championnat (33 buts).\n",
            "90'+4\n",
            "But de Chavarria !\n",
            "Reims crucifie le PSG ! Parti de sa moitié de terrain, Chavarria récupère le ballon côté gauche sur un long dégagement de Baba. L'attaquant rémois s'en va déborder Buffon par la droite et conclure du pied droit à ras de terre dans le but vide.\n",
            "P. Chavarria\n",
            "attaquant\n",
            "59'\n",
            "But de Mbappé !\n",
            "Le PSG réduit l'écart ! A la réception d'un centre de Di Maria, Cavani dépose une belle tête pour l'extérieur pied droit de Mbappé dans les 6 mètres. Mendy est impuissant face à l'attaquant parisien.\n",
            "K. Mbappé\n",
            "attaquant\n",
            "56'\n",
            "But de Cafaro !\n",
            "Reims double la mise ! Sollicité dans le dos de Kurzawa à droite dans la surface, Cafaro croise une magnifique frappe du pied droit. Buffon est trop court et le ballon pénètre dans la cage avec l'aide du poteau gauche.\n",
            "M. Cafaro\n",
            "milieu\n",
            "36'\n",
            "But de Baba !\n",
            "Reims ouvre le score ! Après une perte de balle des Parisiens, Oudin prend le relais au milieu de terrain et alerte Baba dans la profondeur, côté gauche. Celui-ci échappe à Meunier et conclut par un tir croisé du pied gauche entre les jambes de Buffon.\n",
            "A. Baba\n",
            "défenseur\n"
          ],
          "name": "stdout"
        }
      ]
    },
    {
      "cell_type": "code",
      "metadata": {
        "id": "NokP0-Qzisc2",
        "colab_type": "code",
        "colab": {}
      },
      "source": [
        "!ls"
      ],
      "execution_count": 0,
      "outputs": []
    },
    {
      "cell_type": "code",
      "metadata": {
        "id": "ydSDk1t7Gy8J",
        "colab_type": "code",
        "colab": {}
      },
      "source": [
        "def Get_all_txt_Plus(days_url,year):\n",
        "  compt = 0\n",
        "  for i in Get_Match(days_url) :\n",
        "    if compt > 308 :\n",
        "      try:\n",
        "        create_dataset(i, compt,year)     \n",
        "      except:\n",
        "        create_dataset(i, compt,year) \n",
        "    compt = compt + 1  "
      ],
      "execution_count": 0,
      "outputs": []
    },
    {
      "cell_type": "code",
      "metadata": {
        "id": "BLIcp9r_3IKj",
        "colab_type": "code",
        "colab": {}
      },
      "source": [
        "day_url2019 = []\n",
        "day_url2019.append(\"https://www.lequipe.fr/Football/ligue-1/page-calendrier-resultats/1re-journee\")\n",
        "for i in range(2,13):\n",
        "  day_url2019.append(\"https://www.lequipe.fr/Football/ligue-1/page-calendrier-resultats/\"+str(i)+\"e-journee\")"
      ],
      "execution_count": 0,
      "outputs": []
    },
    {
      "cell_type": "code",
      "metadata": {
        "id": "VsmEB8YVzfDS",
        "colab_type": "code",
        "colab": {}
      },
      "source": [
        "day_url2018 = []\n",
        "day_url2018.append(\"https://www.lequipe.fr/Football/2018-2019/ligue-1-resultats.html#1ere-journee\")\n",
        "for i in range(2,39):\n",
        "  day_url2018.append(\"https://www.lequipe.fr/Football/2018-2019/ligue-1-resultats.html#\"+str(i)+\"e-journee\")"
      ],
      "execution_count": 0,
      "outputs": []
    },
    {
      "cell_type": "code",
      "metadata": {
        "id": "02dAx8vGwfQ7",
        "colab_type": "code",
        "colab": {}
      },
      "source": [
        "day_url2017 = []\n",
        "day_url2017.append(\"https://www.lequipe.fr/Football/2017-2018/ligue-1-resultats.html#1ere-journee\")\n",
        "for i in range(2,39):\n",
        "  day_url2017.append(\"https://www.lequipe.fr/Football/2017-2018/ligue-1-resultats.html#\"+str(i)+\"e-journee\")"
      ],
      "execution_count": 0,
      "outputs": []
    },
    {
      "cell_type": "code",
      "metadata": {
        "id": "oKEZ_ABExwQm",
        "colab_type": "code",
        "colab": {}
      },
      "source": [
        "day_url2016 = []\n",
        "day_url2016.append(\"https://www.lequipe.fr/Football/2016-2017/ligue-1-resultats.html#1ere-journee\")\n",
        "for i in range(2,39):\n",
        "  day_url2016.append(\"https://www.lequipe.fr/Football/2016-2017/ligue-1-resultats.html#\"+str(i)+\"e-journee\")"
      ],
      "execution_count": 0,
      "outputs": []
    },
    {
      "cell_type": "code",
      "metadata": {
        "id": "tXADciTRyUAf",
        "colab_type": "code",
        "colab": {}
      },
      "source": [
        "day_url2015 = []\n",
        "day_url2015.append(\"https://www.lequipe.fr/Football/2015-2016/ligue-1-resultats.html#1ere-journee\")\n",
        "for i in range(2,39):\n",
        "  day_url2015.append(\"https://www.lequipe.fr/Football/2015-2016/ligue-1-resultats.html#\"+str(i)+\"e-journee\")"
      ],
      "execution_count": 0,
      "outputs": []
    },
    {
      "cell_type": "code",
      "metadata": {
        "id": "BtuBHNkIy103",
        "colab_type": "code",
        "colab": {}
      },
      "source": [
        "day_url2014 = []\n",
        "day_url2014.append(\"https://www.lequipe.fr/Football/2014-2015/ligue-1-resultats.html#1ere-journee\")\n",
        "for i in range(2,39):\n",
        "  day_url2014.append(\"https://www.lequipe.fr/Football/2014-2015/ligue-1-resultats.html#\"+str(i)+\"e-journee\")"
      ],
      "execution_count": 0,
      "outputs": []
    },
    {
      "cell_type": "code",
      "metadata": {
        "id": "ZFgxsgKgzH1S",
        "colab_type": "code",
        "colab": {}
      },
      "source": [
        "day_url2013 = []\n",
        "day_url2013.append(\"https://www.lequipe.fr/Football/2013-2014/ligue-1-resultats.html#1ere-journee\")\n",
        "for i in range(2,39):\n",
        "  day_url2013.append(\"https://www.lequipe.fr/Football/2013-2014/ligue-1-resultats.html#\"+str(i)+\"e-journee\")"
      ],
      "execution_count": 0,
      "outputs": []
    },
    {
      "cell_type": "code",
      "metadata": {
        "id": "Ccl0pogS8mF6",
        "colab_type": "code",
        "outputId": "aec8b34b-f142-4ae7-d06f-d34e9bdd9453",
        "colab": {
          "base_uri": "https://localhost:8080/",
          "height": 197
        }
      },
      "source": [
        "day_url2019"
      ],
      "execution_count": 0,
      "outputs": [
        {
          "output_type": "execute_result",
          "data": {
            "text/plain": [
              "['https://www.lequipe.fr/Football/ligue-1/page-calendrier-resultats/1re-journee',\n",
              " 'https://www.lequipe.fr/Football/ligue-1/page-calendrier-resultats/2e-journee',\n",
              " 'https://www.lequipe.fr/Football/ligue-1/page-calendrier-resultats/3e-journee',\n",
              " 'https://www.lequipe.fr/Football/ligue-1/page-calendrier-resultats/4e-journee',\n",
              " 'https://www.lequipe.fr/Football/ligue-1/page-calendrier-resultats/5e-journee',\n",
              " 'https://www.lequipe.fr/Football/ligue-1/page-calendrier-resultats/6e-journee',\n",
              " 'https://www.lequipe.fr/Football/ligue-1/page-calendrier-resultats/7e-journee',\n",
              " 'https://www.lequipe.fr/Football/ligue-1/page-calendrier-resultats/8e-journee',\n",
              " 'https://www.lequipe.fr/Football/ligue-1/page-calendrier-resultats/9e-journee',\n",
              " 'https://www.lequipe.fr/Football/ligue-1/page-calendrier-resultats/10e-journee',\n",
              " 'https://www.lequipe.fr/Football/ligue-1/page-calendrier-resultats/11e-journee']"
            ]
          },
          "metadata": {
            "tags": []
          },
          "execution_count": 2
        }
      ]
    },
    {
      "cell_type": "code",
      "metadata": {
        "id": "5b2SmlcjvT8Y",
        "colab_type": "code",
        "colab": {}
      },
      "source": [
        "def create_dataset(url,num_match,year):\n",
        "  options = webdriver.ChromeOptions()\n",
        "  options.add_argument('--headless')\n",
        "  options.add_argument('--no-sandbox')\n",
        "  options.add_argument('--disable-dev-shm-usage')\n",
        "  # open it, go to a website, and get results\n",
        "  options.add_argument('--ignore-certificate-errors')\n",
        "  options.add_argument(\"--test-type\")\n",
        "  options.add_argument('--disable-browser-side-navigation')\n",
        "  browser = webdriver.Chrome('chromedriver',options=options)\n",
        "  workbook = xlsxwriter.Workbook(\"CommentaireMatch.xlsx\")\n",
        "  worksheet = workbook.add_worksheet()\n",
        "  row = 0\n",
        "  col = 0\n",
        "  for i in url :\n",
        "    print(i)\n",
        "    browser.get(i)\n",
        "    #WebDriverWait(browser, 5,2)\n",
        "    time.sleep(1)\n",
        "    #for post in post_elems:\n",
        "     #   print(post.text)\n",
        "\n",
        "    apo='\\''\n",
        "    empty=''\n",
        "    plus = \"+\"\n",
        "    ex = \"*\"\n",
        "    note=r'[0-9]+\\/.[0-9]+'\n",
        "    twitter=r'.*(PM).*(Twitter)?.*'\n",
        "    compt = 0\n",
        "    regex_time=r'[0-9]+\\'\\s?\\+?[0-9]*'\n",
        "    regex_if=r'\\w'\n",
        "    data={}\n",
        "    data[\"moments\"]=[]\n",
        "    reg=r'.*But+.*'\n",
        "    mid=r'45+?.*'\n",
        "    elem = browser.find_element_by_tag_name(\"body\")\n",
        "\n",
        "    no_of_pagedowns = 25\n",
        "    while no_of_pagedowns:\n",
        "        elem.send_keys(Keys.PAGE_DOWN)\n",
        "        time.sleep(0.3)\n",
        "        no_of_pagedowns-=1\n",
        "    try:\n",
        "      post_elems = browser.find_elements_by_class_name(\"grid__summary\")\n",
        "      for texts in post_elems:\n",
        "        #print(texts.text)\n",
        "        worksheet.write(row, col, texts.text)\n",
        "        row +=1\n",
        "        #file.write(texts.text)\n",
        "\n",
        "      #workbook.close()\n",
        "    except:\n",
        "      create_dataset(url, num_match)\n",
        "  workbook.close()\n",
        "  files.download(\"CommentaireMatch.xlsx\")\n",
        "  #print(str(num_match)+\" done\")\n",
        "  "
      ],
      "execution_count": 0,
      "outputs": []
    },
    {
      "cell_type": "code",
      "metadata": {
        "id": "xjgI8S7pTIRJ",
        "colab_type": "code",
        "colab": {}
      },
      "source": [
        "def create_dataset_Commentaire_Sans_Resume(url,num_match,year):\n",
        "\n",
        "  ### WEBDRIVER OPTIONS ###\n",
        "  options = webdriver.ChromeOptions()\n",
        "  options.add_argument('--headless')\n",
        "  options.add_argument('--no-sandbox')\n",
        "  options.add_argument('--disable-dev-shm-usage')\n",
        "  options.add_argument('--ignore-certificate-errors')\n",
        "  options.add_argument(\"--test-type\")\n",
        "  options.add_argument('--disable-browser-side-navigation')\n",
        "  browser = webdriver.Chrome('chromedriver',options=options)\n",
        "  \n",
        "  \n",
        "  row = 0\n",
        "  col = 0\n",
        "  for i in url :\n",
        "\n",
        "    ### EXCEL FILES CREATION ###\n",
        "    workbook = xlsxwriter.Workbook(\"CommentaireMatch.xlsx\")\n",
        "    workbook_stats = xlsxwriter.Workbook(\"Stats.xlsx\")\n",
        "    workbook_scorer = xlsxwriter.Workbook(\"Scorer.xlsx\")\n",
        "    worksheet = workbook.add_worksheet()\n",
        "    worksheet_stats = workbook_stats.add_worksheet()\n",
        "    worksheet_scorer = workbook_scorer.add_worksheet()\n",
        "\n",
        "\n",
        "    browser.get(i)\n",
        "    time.sleep(1)\n",
        "    compteur = 1\n",
        "\n",
        "    ### REGULAR EXPRESSIONS ###\n",
        "    a = 0\n",
        "    apo='\\''\n",
        "    empty=''\n",
        "    plus = \"+\"\n",
        "    ex = \"*\"\n",
        "    note=r'[0-9]+\\/.[0-9]+'\n",
        "    twitter=r'.*(PM).*(Twitter)?.*'\n",
        "    compt = 0\n",
        "    regex_time=r'[0-9]+\\'\\s?\\+?[0-9]*'\n",
        "    regex_if=r'\\w'\n",
        "    data={}\n",
        "    data[\"moments\"]=[]\n",
        "    reg=r'.*But+.*'\n",
        "    mid=r'45+?.*'\n",
        "    regex_score_equipe1=r'([A-Z]+.*[0-9]’)'\n",
        "    regex_score_equipe2=r'([0-9]+’.*[A-Z]+.*)'\n",
        "    ### WEB PAGE NAVIGATION ###\n",
        "    elem = browser.find_element_by_tag_name(\"body\")\n",
        "    no_of_pagedowns = 35\n",
        "    while no_of_pagedowns:\n",
        "        elem.send_keys(Keys.PAGE_DOWN)\n",
        "        time.sleep(0.3)\n",
        "        no_of_pagedowns-=1\n",
        "\n",
        "    ### DATA LIST CREATION ###\n",
        "    info = []\n",
        "    info_stat = []\n",
        "    info_score = []\n",
        "\n",
        "    try:\n",
        "\n",
        "      #SCORERS\n",
        "      row_score1 = 0\n",
        "      row_score2 = 0\n",
        "      test= browser.find_elements_by_class_name(\"Scoreboard__goals\")\n",
        "      for texts in test:\n",
        "        if(re.match(regex_score_equipe1,texts.text)):\n",
        "          worksheet_scorer.write(row_score1, 0, texts.text)\n",
        "          row_score1+=1\n",
        "        if(re.match(regex_score_equipe2,texts.text)):\n",
        "          worksheet_scorer.write(row_score2, 1, texts.text)\n",
        "          row_score2+=1\n",
        "      workbook_scorer.close()\n",
        "      \n",
        "\n",
        "      #GAME SCORE\n",
        "      post_elems = browser.find_elements_by_class_name(\"TeamScore__team--winner\") # TeamScore__score # TeamScore__team--looser # TeamScore__team--winner\n",
        "      for texts in post_elems:\n",
        "        info.append(texts.text)\n",
        "      post_elems = browser.find_elements_by_class_name(\"TeamScore__team--looser\") # TeamScore__score # TeamScore__team--looser # TeamScore__team--winner\n",
        "      for texts in post_elems:\n",
        "        info.append(texts.text) \n",
        "      if info != []:\n",
        "        if info[0].isdigit():\n",
        "          phrase = info[1] +\" gagne le match contre \" + info[2] + \" avec un score \" + info[0]+\"-\"+info[3]\n",
        "        else :\n",
        "          phrase = info[0] +\" gagne le match contre \" + info[3] + \" avec un score \" + info[1]+\"-\"+info[2]\n",
        "      else :\n",
        "        post_elems = browser.find_elements_by_class_name(\"TeamScore__name\") \n",
        "        for texts in post_elems:\n",
        "          info.append(texts.text)\n",
        "        post_elems = browser.find_elements_by_class_name(\"TeamScore__score--ended\") \n",
        "        for texts in post_elems:\n",
        "          info.append(texts.text)\n",
        "        phrase = info[0] +\" fait match nul contre \" + info[1] + \" avec un score \" + info[2]\n",
        "      worksheet.write(row, col, phrase)\n",
        "      row +=1\n",
        "\n",
        "      #SENTENCES\n",
        "      post_elems = browser.find_elements_by_class_name(\"grid__item\")\n",
        "      for texts in post_elems:\n",
        "        if compteur >=0:\n",
        "          if texts.text == \"\" or re.search(r'.*Notez.*',texts.text) or re.search(r'Top du match.*',texts.text) or re.search(r'Flop du match.*',texts.text) or re.search(r'.*note.*',texts.text) or re.search(r'.*[?].*',texts.text) or re.search(r'.*Twitter.*',texts.text): \n",
        "            a = a +1\n",
        "          el= texts.find_elements_by_tag_name(\"img\") \n",
        "          for em in el:\n",
        "            if em.get_attribute('src')==\"https://www.lequipe.fr/img/icons/live/but.svg\" or em.get_attribute('src')==\"https://www.lequipe.fr/img/icons/live/sifflet_fin_2mt.svg\" or em.get_attribute('src')==\"https://www.lequipe.fr/img/icons/live/carton_rouge.svg\" or em.get_attribute('src')==\"https://www.lequipe.fr/img/icons/live/but_contre_son_camp.svg\":\n",
        "              worksheet.write(row, col, texts.text)\n",
        "              print(\"IMPORTANT: \",texts.text)\n",
        "              worksheet.write(row, col+1, \"IMPORTANT\")\n",
        "              row +=1\n",
        "            if em.get_attribute('src')==\"https://www.lequipe.fr/img/icons/live/sifflet_debut_1mt.svg\":\n",
        "              worksheet.write(row, col, texts.text)\n",
        "              print(\"DEBUT: \",texts.text)\n",
        "              worksheet.write(row, col+1, \"DEBUT\")\n",
        "              row +=1\n",
        "          else :\n",
        "            worksheet.write(row, col, texts.text)\n",
        "            print(texts.text)\n",
        "            row +=1\n",
        "        compteur +=1\n",
        "                             \n",
        "      workbook.close()\n",
        "\n",
        "      #STATISTICS\n",
        "      row_stat = 0\n",
        "      column_stat = 0\n",
        "\n",
        "      browser.get(i+\"#stats\")\n",
        "      elem = browser.find_element_by_tag_name(\"body\")\n",
        "\n",
        "      no_of_pagedowns = 3\n",
        "      while no_of_pagedowns:\n",
        "          elem.send_keys(Keys.PAGE_DOWN)\n",
        "          time.sleep(0.3)\n",
        "          no_of_pagedowns-=1\n",
        "\n",
        "\n",
        "      ti=browser.find_elements_by_class_name(\"ChartHalfdonut__wrapper\")\n",
        "      for texts in ti:\n",
        "        temp=texts.text.split(\"\\n\")\n",
        "        worksheet_stats.write(row_stat, column_stat, temp[0])\n",
        "        column_stat+=1\n",
        "        worksheet_stats.write(row_stat, column_stat, temp[1])\n",
        "        column_stat+=1\n",
        "        worksheet_stats.write(row_stat, column_stat, temp[2])\n",
        "        column_stat=0\n",
        "        row_stat+=1\n",
        "      workbook_stats.close()\n",
        "\n",
        "    except:\n",
        "      create_dataset_Commentaire_Sans_Resume(url, num_match,year)\n",
        "    #files.download(\"Stats.xlsx\")\n",
        "    #files.download(\"Scorer.xlsx\")\n",
        "    #files.download(\"CommentaireMatch.xlsx\")\n",
        "    "
      ],
      "execution_count": 0,
      "outputs": []
    },
    {
      "cell_type": "code",
      "metadata": {
        "id": "97qLs16__fZe",
        "colab_type": "code",
        "colab": {}
      },
      "source": [
        "saison = [\"https://www.lequipe.fr/Football/ligue-1/page-calendrier-resultats/1re-journee\",\"https://www.lequipe.fr/Football/2018-2019/ligue-1-resultats.html#1ere-journee\",\"https://www.lequipe.fr/Football/2017-2018/ligue-1-resultats.html#1ere-journee\",\"https://www.lequipe.fr/Football/2016-2017/ligue-1-resultats.html#1ere-journee\",\"https://www.lequipe.fr/Football/2015-2016/ligue-1-resultats.html#1ere-journee\",\"https://www.lequipe.fr/Football/2014-2015/ligue-1-resultats.html#1ere-journee\",\"https://www.lequipe.fr/Football/2013-2014/ligue-1-resultats.html#1ere-journee\"]"
      ],
      "execution_count": 0,
      "outputs": []
    },
    {
      "cell_type": "code",
      "metadata": {
        "id": "Y8ER2DLUAc6O",
        "colab_type": "code",
        "colab": {}
      },
      "source": [
        "days_url = []\n",
        "for i in saison:\n",
        "  for j in Get_Day(i):\n",
        "    days_url.append(j)"
      ],
      "execution_count": 0,
      "outputs": []
    },
    {
      "cell_type": "code",
      "metadata": {
        "id": "zuirmu429jhE",
        "colab_type": "code",
        "colab": {}
      },
      "source": [
        "equipe = []\n",
        "for i in Get_Match(days_url):\n",
        "  i_split = i.split('/')\n",
        "  i_equipe = i_split[7].split('-')\n",
        "  if len(i_equipe) > 3:\n",
        "    if i_equipe[0] == 'paris' or i_equipe[0] == 'saint' or i_equipe[0] == 'ac':\n",
        "      del i_equipe[1]\n",
        "    if i_equipe[1] == 'paris' or i_equipe[1] == 'saint' or i_equipe[1] == 'ac':\n",
        "      del i_equipe[2]\n",
        "  for j in range(2):\n",
        "    if i_equipe[j] == 'ol': i_equipe[j] = 'lyon'\n",
        "    elif i_equipe[j] == 'psg': i_equipe[j] = 'paris'\n",
        "    elif i_equipe[j] == 'saint'or i_equipe[j] == 'asse': i_equipe[j] = 'saint etienne'\n",
        "    elif i_equipe[j] == 'ac'or i_equipe[j] == 'gfc': i_equipe[j] = 'ajaccio'\n",
        "    elif i_equipe[j] == 'om': i_equipe[j] = 'marseille'\n",
        "  equipe.append(i_equipe[0])\n",
        "  equipe.append(i_equipe[1])\n"
      ],
      "execution_count": 0,
      "outputs": []
    },
    {
      "cell_type": "code",
      "metadata": {
        "id": "cJDQc28XDAhr",
        "colab_type": "code",
        "colab": {}
      },
      "source": [
        "unique_equipe = set(equipe)\n",
        "unique_equipe_list = list(unique_equipe)"
      ],
      "execution_count": 0,
      "outputs": []
    },
    {
      "cell_type": "code",
      "metadata": {
        "id": "sSutYiNrElyQ",
        "colab_type": "code",
        "outputId": "53bb840e-a12b-4536-a2e5-f0ead9f71b08",
        "colab": {
          "base_uri": "https://localhost:8080/",
          "height": 572
        }
      },
      "source": [
        "unique_equipe_list"
      ],
      "execution_count": 0,
      "outputs": [
        {
          "output_type": "execute_result",
          "data": {
            "text/plain": [
              "['lorient',\n",
              " 'troyes',\n",
              " 'toulouse',\n",
              " 'lyon',\n",
              " 'brest',\n",
              " 'bordeaux',\n",
              " 'evian',\n",
              " 'metz',\n",
              " 'montpellier',\n",
              " 'saint',\n",
              " 'nice',\n",
              " 'marseille',\n",
              " 'amiens',\n",
              " 'nantes',\n",
              " 'rennes',\n",
              " 'nancy',\n",
              " 'lens',\n",
              " 'guingamp',\n",
              " 'angers',\n",
              " 'nimes',\n",
              " 'sochaux',\n",
              " 'dijon',\n",
              " 'reims',\n",
              " 'strasbourg',\n",
              " 'valenciennes',\n",
              " 'paris',\n",
              " 'lille',\n",
              " 'bastia',\n",
              " 'caen',\n",
              " 'monaco',\n",
              " 'ajaccio',\n",
              " 'thonon']"
            ]
          },
          "metadata": {
            "tags": []
          },
          "execution_count": 28
        }
      ]
    },
    {
      "cell_type": "code",
      "metadata": {
        "id": "yZodyTl2Ms7d",
        "colab_type": "code",
        "outputId": "4ef35393-d706-4a7f-9d80-566a131e91d3",
        "colab": {
          "base_uri": "https://localhost:8080/",
          "height": 710
        }
      },
      "source": [
        "unique_equipe_list"
      ],
      "execution_count": 0,
      "outputs": [
        {
          "output_type": "execute_result",
          "data": {
            "text/plain": [
              "['bordeaux',\n",
              " 'strasbourg',\n",
              " 'lyon',\n",
              " 'monaco',\n",
              " 'thonon',\n",
              " 'valenciennes',\n",
              " 'paris',\n",
              " 'reims',\n",
              " 'om',\n",
              " 'dijon',\n",
              " 'etienne',\n",
              " 'nantes',\n",
              " 'nice',\n",
              " 'brest',\n",
              " 'ajaccio',\n",
              " 'sg',\n",
              " 'psg',\n",
              " 'toulouse',\n",
              " 'ol',\n",
              " 'metz',\n",
              " 'guingamp',\n",
              " 'saint',\n",
              " 'lens',\n",
              " 'angers',\n",
              " 'asse',\n",
              " 'evian',\n",
              " 'montpellier',\n",
              " 'amiens',\n",
              " 'nancy',\n",
              " 'gfc',\n",
              " 'ac',\n",
              " 'caen',\n",
              " 'lille',\n",
              " 'lorient',\n",
              " 'marseille',\n",
              " 'bastia',\n",
              " 'nimes',\n",
              " 'troyes',\n",
              " 'rennes',\n",
              " 'sochaux']"
            ]
          },
          "metadata": {
            "tags": []
          },
          "execution_count": 48
        }
      ]
    },
    {
      "cell_type": "code",
      "metadata": {
        "id": "X2yaS9frM12j",
        "colab_type": "code",
        "colab": {}
      },
      "source": [
        "['bordeaux',\n",
        " 'strasbourg',\n",
        " 'lyon', 'ol', --- > lyon\n",
        " 'monaco',\n",
        " 'thonon',\n",
        " 'valenciennes',\n",
        " 'paris', 'sg', 'psg', ---> paris\n",
        " 'reims',\n",
        " 'om', ---> marseille\n",
        " 'dijon',\n",
        " 'etienne', 'saint', 'asse', --> saint-etienne\n",
        " 'nantes',\n",
        " 'nice',\n",
        " 'brest',\n",
        " 'ajaccio', 'ac', 'gfc', ---> ajaccio\n",
        " 'toulouse',\n",
        " 'metz',\n",
        " 'guingamp',\n",
        " 'lens',\n",
        " 'angers',\n",
        " 'evian',\n",
        " 'montpellier',\n",
        " 'amiens',\n",
        " 'nancy',\n",
        " 'caen',\n",
        " 'lille',\n",
        " 'lorient',\n",
        " 'marseille',\n",
        " 'bastia',\n",
        " 'nimes',\n",
        " 'troyes',\n",
        " 'rennes',\n",
        " 'sochaux'"
      ],
      "execution_count": 0,
      "outputs": []
    },
    {
      "cell_type": "code",
      "metadata": {
        "id": "WGHbq-GC_z7z",
        "colab_type": "code",
        "colab": {}
      },
      "source": [
        "def ren_equipe(url):\n",
        "  equipe = []\n",
        "  i_split = url.split('/')\n",
        "  i_equipe = i_split[7].split('-')\n",
        "  if len(i_equipe) > 3:\n",
        "    if i_equipe[0] == 'paris' or i_equipe[0] == 'saint' or i_equipe[0] == 'ac':\n",
        "      del i_equipe[1]\n",
        "    if i_equipe[1] == 'paris' or i_equipe[1] == 'saint' or i_equipe[1] == 'ac':\n",
        "      del i_equipe[2]\n",
        "  for j in range(2):\n",
        "    if i_equipe[j] == 'ol': i_equipe[j] = 'lyon'\n",
        "    elif i_equipe[j] == 'psg': i_equipe[j] = 'paris'\n",
        "    elif i_equipe[j] == 'saint'or i_equipe[j] == 'asse': i_equipe[j] = 'saint etienne'\n",
        "    elif i_equipe[j] == 'ac'or i_equipe[j] == 'gfc': i_equipe[j] = 'ajaccio'\n",
        "    elif i_equipe[j] == 'om': i_equipe[j] = 'marseille'\n",
        "  equipe.append(i_equipe[0][0].upper()+i_equipe[0][1:])\n",
        "  equipe.append(i_equipe[1][0].upper()+i_equipe[1][1:])\n",
        "  return equipe"
      ],
      "execution_count": 0,
      "outputs": []
    },
    {
      "cell_type": "code",
      "metadata": {
        "id": "7nD9qoeM_0ZP",
        "colab_type": "code",
        "colab": {}
      },
      "source": [
        "m,n=ren_equipe(\"https://www.lequipe.fr/Football/match-direct/ligue-1/2019-2020/dijon-asse-live/450972\")"
      ],
      "execution_count": 0,
      "outputs": []
    },
    {
      "cell_type": "code",
      "metadata": {
        "id": "nbhmONWZB_rY",
        "colab_type": "code",
        "outputId": "6cbb84ed-ff09-433c-a00b-0573b71a76b1",
        "colab": {
          "base_uri": "https://localhost:8080/",
          "height": 253
        }
      },
      "source": [
        "\n",
        "### WEBDRIVER OPTIONS ###\n",
        "options = webdriver.ChromeOptions()\n",
        "options.add_argument('--headless')\n",
        "options.add_argument('--no-sandbox')\n",
        "options.add_argument('--disable-dev-shm-usage')\n",
        "options.add_argument('--ignore-certificate-errors')\n",
        "options.add_argument(\"--test-type\")\n",
        "options.add_argument('--disable-browser-side-navigation')\n",
        "browser = webdriver.Chrome('chromedriver',options=options)\n",
        "\n",
        "\n",
        "row = 0\n",
        "col = 0\n",
        "i = \"https://www.lequipe.fr/Football/match-direct/ligue-1/2018-2019/angers-psg-live/428494\"\n",
        "row_important = 0\n",
        "row = 0\n",
        "col = 0\n",
        "commentaire_avant_match = False\n",
        "row_commentaire_avant_match = 0\n",
        "index_match_equipe_saison = '-'.join(i.split('/')[6:])\n",
        "\n",
        "### EXCEL FILES CREATION ###\n",
        "workbook = xlsxwriter.Workbook(\"CommentaireMatch\"+'-'+str(idx_match)+'-'+str(index_match_equipe_saison)+\".xlsx\")\n",
        "workbook_stats = xlsxwriter.Workbook(\"Stats\"+'-'+str(idx_match)+'-'+str(index_match_equipe_saison)+\".xlsx\")\n",
        "workbook_scorer = xlsxwriter.Workbook(\"Scorer\"+'-'+str(idx_match)+'-'+str(index_match_equipe_saison)+\".xlsx\")\n",
        "workbook_important = xlsxwriter.Workbook(\"important\"+'-'+str(idx_match)+'-'+str(index_match_equipe_saison)+\".xlsx\")\n",
        "workbook_avant_match = xlsxwriter.Workbook(\"avant_match\"+'-'+str(idx_match)+'-'+str(index_match_equipe_saison)+\".xlsx\")\n",
        "workbook_resume = xlsxwriter.Workbook(\"resume\"+'-'+str(idx_match)+'-'+str(index_match_equipe_saison)+\".xlsx\")\n",
        "workbook_phrase_but = xlsxwriter.Workbook(\"phrase_but\"+'-'+str(idx_match)+'-'+str(index_match_equipe_saison)+\".xlsx\")\n",
        "\n",
        "print(\"Stats\"+'-'+str(idx_match)+'-'+str(index_match_equipe_saison)+\".xlsx\")\n",
        "\n",
        "worksheet = workbook.add_worksheet()\n",
        "worksheet_stats = workbook_stats.add_worksheet()\n",
        "worksheet_scorer = workbook_scorer.add_worksheet()\n",
        "worksheet_important = workbook_important.add_worksheet()\n",
        "worksheet_avant_match = workbook_avant_match.add_worksheet()\n",
        "worksheet_resume = workbook_resume.add_worksheet()\n",
        "worksheet_phrase_but = workbook_phrase_but.add_worksheet()\n",
        "\n",
        "browser.get(i)\n",
        "time.sleep(1)\n",
        "compteur = 1\n",
        "\n",
        "### REGULAR EXPRESSIONS ###\n",
        "a = 0\n",
        "apo='\\''\n",
        "empty=''\n",
        "plus = \"+\"\n",
        "ex = \"*\"\n",
        "note=r'[0-9]+\\/.[0-9]+'\n",
        "twitter=r'.*(PM).*(Twitter)?.*'\n",
        "compt = 0\n",
        "regex_time=r'[0-9]+\\'\\s?\\+?[0-9]*'\n",
        "regex_if=r'\\w'\n",
        "data={}\n",
        "data[\"moments\"]=[]\n",
        "reg=r'.*But+.*'\n",
        "mid=r'45+?.*'\n",
        "regex_score_equipe1=r'([A-Z]+.*[0-9]’)'\n",
        "regex_score_equipe2=r'([0-9]+’.*[A-Z]+.*)'\n",
        "### WEB PAGE NAVIGATION ###\n",
        "elem = browser.find_element_by_tag_name(\"body\")\n",
        "no_of_pagedowns = 35\n",
        "while no_of_pagedowns:\n",
        "    elem.send_keys(Keys.PAGE_DOWN)\n",
        "    time.sleep(0.3)\n",
        "    no_of_pagedowns-=1\n",
        "\n",
        "### DATA LIST CREATION ###\n",
        "info = []\n",
        "info_stat = []\n",
        "info_score = []\n",
        "\n",
        "\n",
        "\n",
        "telem = browser.find_elements_by_class_name(\"TeamScore__identity\")\n",
        "#equipe_dom= \"\"\n",
        "#equipe_ext= \"\"\n",
        "if len(telem)>0:\n",
        "  equipe_dom = telem[0].text\n",
        "  equipe_ext = telem[1].text\n",
        "  if equipe_dom == \"PSG\":\n",
        "    equipe_dom= \"Paris\"\n",
        "  if equipe_ext == \"PSG\":\n",
        "    equipe_ext= \"Paris\"\n",
        "else :\n",
        "  equipe_dom, equipe_ext = ren_equipe(i)\n",
        "#SCORERS\n",
        "row_score1 = 0\n",
        "row_score2 = 0\n",
        "test= browser.find_elements_by_class_name(\"Scoreboard__goals\")\n",
        "for texts in test:\n",
        "  if(re.match(regex_score_equipe1,texts.text)):\n",
        "    worksheet_scorer.write(row_score1, 0, texts.text)\n",
        "    spli = texts.text.split(\" \")\n",
        "    sentence = spli[0] + \" \" + spli[1] + \" a marqué un but pour \" + equipe_dom + \" à la \" + spli[2] + \".\"\n",
        "    worksheet_phrase_but.write(row_score1, 0, sentence)\n",
        "    row_score1+=1\n",
        "  if(re.match(regex_score_equipe2,texts.text)):\n",
        "    worksheet_scorer.write(row_score2, 1, texts.text)\n",
        "    spli = texts.text.split(\" \")\n",
        "    sentence = spli[1] + \" \" + spli[2] + \" a marqué un but pour \" + equipe_ext + \" à la \" + spli[0] + \".\"\n",
        "    worksheet_phrase_but.write(row_score2, 1, sentence)\n",
        "    row_score2+=1\n",
        "workbook_scorer.close()\n",
        "workbook_phrase_but.close()\n"
      ],
      "execution_count": 0,
      "outputs": [
        {
          "output_type": "stream",
          "text": [
            "Stats-10-2018-2019-angers-psg-live-428494.xlsx\n"
          ],
          "name": "stdout"
        },
        {
          "output_type": "error",
          "ename": "IndexError",
          "evalue": "ignored",
          "traceback": [
            "\u001b[0;31m---------------------------------------------------------------------------\u001b[0m",
            "\u001b[0;31mIndexError\u001b[0m                                Traceback (most recent call last)",
            "\u001b[0;32m<ipython-input-16-26c8d77045d5>\u001b[0m in \u001b[0;36m<module>\u001b[0;34m()\u001b[0m\n\u001b[1;32m    100\u001b[0m     \u001b[0mworksheet_scorer\u001b[0m\u001b[0;34m.\u001b[0m\u001b[0mwrite\u001b[0m\u001b[0;34m(\u001b[0m\u001b[0mrow_score2\u001b[0m\u001b[0;34m,\u001b[0m \u001b[0;36m1\u001b[0m\u001b[0;34m,\u001b[0m \u001b[0mtexts\u001b[0m\u001b[0;34m.\u001b[0m\u001b[0mtext\u001b[0m\u001b[0;34m)\u001b[0m\u001b[0;34m\u001b[0m\u001b[0;34m\u001b[0m\u001b[0m\n\u001b[1;32m    101\u001b[0m     \u001b[0mspli\u001b[0m \u001b[0;34m=\u001b[0m \u001b[0mtexts\u001b[0m\u001b[0;34m.\u001b[0m\u001b[0mtext\u001b[0m\u001b[0;34m.\u001b[0m\u001b[0msplit\u001b[0m\u001b[0;34m(\u001b[0m\u001b[0;34m\" \"\u001b[0m\u001b[0;34m)\u001b[0m\u001b[0;34m\u001b[0m\u001b[0;34m\u001b[0m\u001b[0m\n\u001b[0;32m--> 102\u001b[0;31m     \u001b[0msentence\u001b[0m \u001b[0;34m=\u001b[0m \u001b[0mspli\u001b[0m\u001b[0;34m[\u001b[0m\u001b[0;36m1\u001b[0m\u001b[0;34m]\u001b[0m \u001b[0;34m+\u001b[0m \u001b[0;34m\" \"\u001b[0m \u001b[0;34m+\u001b[0m \u001b[0mspli\u001b[0m\u001b[0;34m[\u001b[0m\u001b[0;36m2\u001b[0m\u001b[0;34m]\u001b[0m \u001b[0;34m+\u001b[0m \u001b[0;34m\" a marqué un but pour \"\u001b[0m \u001b[0;34m+\u001b[0m \u001b[0mequipe_ext\u001b[0m \u001b[0;34m+\u001b[0m \u001b[0;34m\" à la \"\u001b[0m \u001b[0;34m+\u001b[0m \u001b[0mspli\u001b[0m\u001b[0;34m[\u001b[0m\u001b[0;36m0\u001b[0m\u001b[0;34m]\u001b[0m \u001b[0;34m+\u001b[0m \u001b[0;34m\".\"\u001b[0m\u001b[0;34m\u001b[0m\u001b[0;34m\u001b[0m\u001b[0m\n\u001b[0m\u001b[1;32m    103\u001b[0m     \u001b[0mworksheet_phrase_but\u001b[0m\u001b[0;34m.\u001b[0m\u001b[0mwrite\u001b[0m\u001b[0;34m(\u001b[0m\u001b[0mrow_score2\u001b[0m\u001b[0;34m,\u001b[0m \u001b[0;36m1\u001b[0m\u001b[0;34m,\u001b[0m \u001b[0msentence\u001b[0m\u001b[0;34m)\u001b[0m\u001b[0;34m\u001b[0m\u001b[0;34m\u001b[0m\u001b[0m\n\u001b[1;32m    104\u001b[0m     \u001b[0mrow_score2\u001b[0m\u001b[0;34m+=\u001b[0m\u001b[0;36m1\u001b[0m\u001b[0;34m\u001b[0m\u001b[0;34m\u001b[0m\u001b[0m\n",
            "\u001b[0;31mIndexError\u001b[0m: list index out of range"
          ]
        }
      ]
    },
    {
      "cell_type": "code",
      "metadata": {
        "id": "wg5DBb-MzqrG",
        "colab_type": "code",
        "colab": {}
      },
      "source": [
        ""
      ],
      "execution_count": 0,
      "outputs": []
    }
  ]
}